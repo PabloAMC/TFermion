{
 "cells": [
  {
   "cell_type": "markdown",
   "metadata": {},
   "source": [
    "# Plot generation"
   ]
  },
  {
   "cell_type": "markdown",
   "metadata": {},
   "source": [
    "This notebook reads the result files and generates plots. "
   ]
  },
  {
   "cell_type": "code",
   "execution_count": 1,
   "metadata": {},
   "outputs": [],
   "source": [
    "import pandas as pd\n",
    "import numpy as np\n",
    "\n",
    "pd.set_option('display.float_format', lambda x: \"{:0.1e}\".format(x))"
   ]
  },
  {
   "cell_type": "code",
   "execution_count": 2,
   "metadata": {},
   "outputs": [],
   "source": [
    "df = pd.read_csv('results/results.csv', delimiter  = ',', index_col = 'Methods')"
   ]
  },
  {
   "cell_type": "code",
   "execution_count": 14,
   "metadata": {},
   "outputs": [
    {
     "name": "stdout",
     "output_type": "stream",
     "text": [
      "Index(['qDRIFT \\cite{campbell2019random}', 'Rand. Hamilt.', 'Taylor naive',\n",
      "       'Taylor on-the-fly', 'Config. interaction', 'Low depth Trotter',\n",
      "       'SHC Trotter', 'L. d. Taylor naive', 'L. d. Tay. on-the-fly',\n",
      "       'Linear T', 'Sparsity low-rank', 'Interaction picture'],\n",
      "      dtype='object')\n"
     ]
    },
    {
     "data": {
      "text/html": [
       "<div>\n",
       "<style scoped>\n",
       "    .dataframe tbody tr th:only-of-type {\n",
       "        vertical-align: middle;\n",
       "    }\n",
       "\n",
       "    .dataframe tbody tr th {\n",
       "        vertical-align: top;\n",
       "    }\n",
       "\n",
       "    .dataframe thead th {\n",
       "        text-align: right;\n",
       "    }\n",
       "</style>\n",
       "<table border=\"1\" class=\"dataframe\">\n",
       "  <thead>\n",
       "    <tr style=\"text-align: right;\">\n",
       "      <th></th>\n",
       "      <th>H$_2$</th>\n",
       "      <th>HF</th>\n",
       "      <th>H$_2$O</th>\n",
       "      <th>NH$_3$</th>\n",
       "      <th>CH$_4$</th>\n",
       "      <th>O$_2$</th>\n",
       "      <th>CO$_2$</th>\n",
       "      <th>NaCl</th>\n",
       "    </tr>\n",
       "  </thead>\n",
       "  <tbody>\n",
       "    <tr>\n",
       "      <th>qDRIFT \\cite{campbell2019random}</th>\n",
       "      <td>6.2e+16</td>\n",
       "      <td>1.2e+19</td>\n",
       "      <td>1.4e+19</td>\n",
       "      <td>2.4e+19</td>\n",
       "      <td>3.9e+19</td>\n",
       "      <td>5.0e+19</td>\n",
       "      <td>2.4e+20</td>\n",
       "      <td>4.0e+20</td>\n",
       "    </tr>\n",
       "    <tr>\n",
       "      <th>Rand. Hamilt. \\cite{campbell2019random}</th>\n",
       "      <td>3.0e+17</td>\n",
       "      <td>5.2e+22</td>\n",
       "      <td>2.4e+23</td>\n",
       "      <td>1.4e+24</td>\n",
       "      <td>1.9e+24</td>\n",
       "      <td>2.4e+23</td>\n",
       "      <td>1.6e+25</td>\n",
       "      <td>7.1e+26</td>\n",
       "    </tr>\n",
       "    <tr>\n",
       "      <th>Taylor naive \\cite{babbush2016exponentially}</th>\n",
       "      <td>3.0e+13</td>\n",
       "      <td>1.3e+17</td>\n",
       "      <td>1.4e+17</td>\n",
       "      <td>1.9e+17</td>\n",
       "      <td>4.1e+18</td>\n",
       "      <td>4.7e+18</td>\n",
       "      <td>1.1e+19</td>\n",
       "      <td>1.4e+19</td>\n",
       "    </tr>\n",
       "    <tr>\n",
       "      <th>Taylor on-the-fly \\cite{babbush2016exponentially}</th>\n",
       "      <td>1.4e+27</td>\n",
       "      <td>5.9e+29</td>\n",
       "      <td>9.4e+29</td>\n",
       "      <td>3.3e+29</td>\n",
       "      <td>6.8e+30</td>\n",
       "      <td>4.6e+31</td>\n",
       "      <td>3.0e+33</td>\n",
       "      <td>4.8e+33</td>\n",
       "    </tr>\n",
       "    <tr>\n",
       "      <th>Config. interaction \\cite{babbush2017exponentially}</th>\n",
       "      <td>1.6e+36</td>\n",
       "      <td>2.4e+39</td>\n",
       "      <td>2.8e+39</td>\n",
       "      <td>3.9e+38</td>\n",
       "      <td>1.0e+40</td>\n",
       "      <td>8.3e+40</td>\n",
       "      <td>2.5e+43</td>\n",
       "      <td>4.3e+46</td>\n",
       "    </tr>\n",
       "    <tr>\n",
       "      <th>Low depth Trotter \\cite{babbush2018low}</th>\n",
       "      <td>1.2e+23</td>\n",
       "      <td>1.3e+26</td>\n",
       "      <td>1.1e+26</td>\n",
       "      <td>5.0e+25</td>\n",
       "      <td>8.5e+25</td>\n",
       "      <td>4.4e+26</td>\n",
       "      <td>8.4e+26</td>\n",
       "      <td>6.9e+27</td>\n",
       "    </tr>\n",
       "    <tr>\n",
       "      <th>SHC Trotter \\cite{babbush2018low,mcardle2022exploiting}</th>\n",
       "      <td>2.3e+22</td>\n",
       "      <td>3.6e+25</td>\n",
       "      <td>4.2e+25</td>\n",
       "      <td>2.5e+25</td>\n",
       "      <td>4.2e+25</td>\n",
       "      <td>2.0e+26</td>\n",
       "      <td>7.5e+26</td>\n",
       "      <td>3.2e+27</td>\n",
       "    </tr>\n",
       "    <tr>\n",
       "      <th>L. d. Taylor naive \\cite{babbush2018low}</th>\n",
       "      <td>3.1e+15</td>\n",
       "      <td>7.8e+16</td>\n",
       "      <td>8.4e+16</td>\n",
       "      <td>4.9e+16</td>\n",
       "      <td>7.6e+16</td>\n",
       "      <td>1.2e+17</td>\n",
       "      <td>1.8e+17</td>\n",
       "      <td>4.7e+17</td>\n",
       "    </tr>\n",
       "    <tr>\n",
       "      <th>L. d. Tay. on-the-fly \\cite{babbush2018low}</th>\n",
       "      <td>1.3e+23</td>\n",
       "      <td>2.7e+25</td>\n",
       "      <td>4.7e+25</td>\n",
       "      <td>3.7e+25</td>\n",
       "      <td>8.4e+25</td>\n",
       "      <td>1.1e+26</td>\n",
       "      <td>5.2e+26</td>\n",
       "      <td>8.5e+26</td>\n",
       "    </tr>\n",
       "    <tr>\n",
       "      <th>Linear T \\cite{babbush2018encoding}</th>\n",
       "      <td>3.9e+13</td>\n",
       "      <td>1.0e+15</td>\n",
       "      <td>1.1e+15</td>\n",
       "      <td>6.3e+14</td>\n",
       "      <td>9.7e+14</td>\n",
       "      <td>1.6e+15</td>\n",
       "      <td>2.6e+15</td>\n",
       "      <td>6.3e+15</td>\n",
       "    </tr>\n",
       "    <tr>\n",
       "      <th>Sparsity low-rank \\cite{berry2019qubitization}</th>\n",
       "      <td>1.2e+10</td>\n",
       "      <td>4.6e+11</td>\n",
       "      <td>6.0e+11</td>\n",
       "      <td>1.0e+12</td>\n",
       "      <td>1.8e+12</td>\n",
       "      <td>1.5e+12</td>\n",
       "      <td>6.3e+12</td>\n",
       "      <td>5.3e+12</td>\n",
       "    </tr>\n",
       "    <tr>\n",
       "      <th>Interaction picture \\cite{low2018hamiltonian}</th>\n",
       "      <td>1.4e+18</td>\n",
       "      <td>5.7e+19</td>\n",
       "      <td>5.0e+19</td>\n",
       "      <td>2.4e+19</td>\n",
       "      <td>3.6e+19</td>\n",
       "      <td>6.6e+19</td>\n",
       "      <td>8.0e+19</td>\n",
       "      <td>3.3e+20</td>\n",
       "    </tr>\n",
       "  </tbody>\n",
       "</table>\n",
       "</div>"
      ],
      "text/plain": [
       "                                                     H$_2$      HF  H$_2$O  \\\n",
       "qDRIFT \\cite{campbell2019random}                   6.2e+16 1.2e+19 1.4e+19   \n",
       "Rand. Hamilt. \\cite{campbell2019random}            3.0e+17 5.2e+22 2.4e+23   \n",
       "Taylor naive \\cite{babbush2016exponentially}       3.0e+13 1.3e+17 1.4e+17   \n",
       "Taylor on-the-fly \\cite{babbush2016exponentially}  1.4e+27 5.9e+29 9.4e+29   \n",
       "Config. interaction \\cite{babbush2017exponentia... 1.6e+36 2.4e+39 2.8e+39   \n",
       "Low depth Trotter \\cite{babbush2018low}            1.2e+23 1.3e+26 1.1e+26   \n",
       "SHC Trotter \\cite{babbush2018low,mcardle2022exp... 2.3e+22 3.6e+25 4.2e+25   \n",
       "L. d. Taylor naive \\cite{babbush2018low}           3.1e+15 7.8e+16 8.4e+16   \n",
       "L. d. Tay. on-the-fly \\cite{babbush2018low}        1.3e+23 2.7e+25 4.7e+25   \n",
       "Linear T \\cite{babbush2018encoding}                3.9e+13 1.0e+15 1.1e+15   \n",
       "Sparsity low-rank \\cite{berry2019qubitization}     1.2e+10 4.6e+11 6.0e+11   \n",
       "Interaction picture \\cite{low2018hamiltonian}      1.4e+18 5.7e+19 5.0e+19   \n",
       "\n",
       "                                                    NH$_3$  CH$_4$   O$_2$  \\\n",
       "qDRIFT \\cite{campbell2019random}                   2.4e+19 3.9e+19 5.0e+19   \n",
       "Rand. Hamilt. \\cite{campbell2019random}            1.4e+24 1.9e+24 2.4e+23   \n",
       "Taylor naive \\cite{babbush2016exponentially}       1.9e+17 4.1e+18 4.7e+18   \n",
       "Taylor on-the-fly \\cite{babbush2016exponentially}  3.3e+29 6.8e+30 4.6e+31   \n",
       "Config. interaction \\cite{babbush2017exponentia... 3.9e+38 1.0e+40 8.3e+40   \n",
       "Low depth Trotter \\cite{babbush2018low}            5.0e+25 8.5e+25 4.4e+26   \n",
       "SHC Trotter \\cite{babbush2018low,mcardle2022exp... 2.5e+25 4.2e+25 2.0e+26   \n",
       "L. d. Taylor naive \\cite{babbush2018low}           4.9e+16 7.6e+16 1.2e+17   \n",
       "L. d. Tay. on-the-fly \\cite{babbush2018low}        3.7e+25 8.4e+25 1.1e+26   \n",
       "Linear T \\cite{babbush2018encoding}                6.3e+14 9.7e+14 1.6e+15   \n",
       "Sparsity low-rank \\cite{berry2019qubitization}     1.0e+12 1.8e+12 1.5e+12   \n",
       "Interaction picture \\cite{low2018hamiltonian}      2.4e+19 3.6e+19 6.6e+19   \n",
       "\n",
       "                                                    CO$_2$    NaCl  \n",
       "qDRIFT \\cite{campbell2019random}                   2.4e+20 4.0e+20  \n",
       "Rand. Hamilt. \\cite{campbell2019random}            1.6e+25 7.1e+26  \n",
       "Taylor naive \\cite{babbush2016exponentially}       1.1e+19 1.4e+19  \n",
       "Taylor on-the-fly \\cite{babbush2016exponentially}  3.0e+33 4.8e+33  \n",
       "Config. interaction \\cite{babbush2017exponentia... 2.5e+43 4.3e+46  \n",
       "Low depth Trotter \\cite{babbush2018low}            8.4e+26 6.9e+27  \n",
       "SHC Trotter \\cite{babbush2018low,mcardle2022exp... 7.5e+26 3.2e+27  \n",
       "L. d. Taylor naive \\cite{babbush2018low}           1.8e+17 4.7e+17  \n",
       "L. d. Tay. on-the-fly \\cite{babbush2018low}        5.2e+26 8.5e+26  \n",
       "Linear T \\cite{babbush2018encoding}                2.6e+15 6.3e+15  \n",
       "Sparsity low-rank \\cite{berry2019qubitization}     6.3e+12 5.3e+12  \n",
       "Interaction picture \\cite{low2018hamiltonian}      8.0e+19 3.3e+20  "
      ]
     },
     "execution_count": 14,
     "metadata": {},
     "output_type": "execute_result"
    }
   ],
   "source": [
    "labels = ['qDRIFT \\cite{campbell2019random}', 'Rand. Hamilt. \\cite{campbell2019random}', \"Taylor naive \\cite{babbush2016exponentially}\", \"Taylor on-the-fly \\cite{babbush2016exponentially}\", \"Config. interaction \\cite{babbush2017exponentially}\",\n",
    "        \"Low depth Trotter \\cite{babbush2018low}\", \"SHC Trotter \\cite{babbush2018low,mcardle2022exploiting}\", \"L. d. Taylor naive \\cite{babbush2018low}\", \"L. d. Tay. on-the-fly \\cite{babbush2018low}\", \"Linear T \\cite{babbush2018encoding}\", \"Sparsity low-rank \\cite{berry2019qubitization}\", \n",
    "        \"Interaction picture \\cite{low2018hamiltonian}\"]\n",
    "print(df.index)\n",
    "df.index = labels\n",
    "#df.index.name = 'Methods'\n",
    "df"
   ]
  },
  {
   "cell_type": "code",
   "execution_count": 15,
   "metadata": {},
   "outputs": [
    {
     "name": "stdout",
     "output_type": "stream",
     "text": [
      "\\begin{table}\n",
      "\\centering\n",
      "\\caption{T-gate cost estimates for different molecules and methods obtained using our library}\n",
      "\\label{tab:costs}\n",
      "\\begin{tabular}{|l|p{1.45cm}|p{1.45cm}|p{1.45cm}|p{1.45cm}|p{1.45cm}|p{1.45cm}|p{1.45cm}|p{1.45cm}|}\n",
      "\\toprule\n",
      "{} &   H$_2$ &      HF &  H$_2$O &  NH$_3$ &  CH$_4$ &   O$_2$ &  CO$_2$ &    NaCl \\\\\n",
      "\\midrule\n",
      "qDRIFT \\cite{campbell2019random}                   & 6.2e+16 & 1.2e+19 & 1.4e+19 & 2.4e+19 & 3.9e+19 & 5.0e+19 & 2.4e+20 & 4.0e+20 \\\\\n",
      "Rand. Hamilt. \\cite{campbell2019random}            & 3.0e+17 & 5.2e+22 & 2.4e+23 & 1.4e+24 & 1.9e+24 & 2.4e+23 & 1.6e+25 & 7.1e+26 \\\\\n",
      "Taylor naive \\cite{babbush2016exponentially}       & 3.0e+13 & 1.3e+17 & 1.4e+17 & 1.9e+17 & 4.1e+18 & 4.7e+18 & 1.1e+19 & 1.4e+19 \\\\\n",
      "Taylor on-the-fly \\cite{babbush2016exponentially}  & 1.4e+27 & 5.9e+29 & 9.4e+29 & 3.3e+29 & 6.8e+30 & 4.6e+31 & 3.0e+33 & 4.8e+33 \\\\\n",
      "Config. interaction \\cite{babbush2017exponentia... & 1.6e+36 & 2.4e+39 & 2.8e+39 & 3.9e+38 & 1.0e+40 & 8.3e+40 & 2.5e+43 & 4.3e+46 \\\\\n",
      "Low depth Trotter \\cite{babbush2018low}            & 1.2e+23 & 1.3e+26 & 1.1e+26 & 5.0e+25 & 8.5e+25 & 4.4e+26 & 8.4e+26 & 6.9e+27 \\\\\n",
      "SHC Trotter \\cite{babbush2018low,mcardle2022exp... & 2.3e+22 & 3.6e+25 & 4.2e+25 & 2.5e+25 & 4.2e+25 & 2.0e+26 & 7.5e+26 & 3.2e+27 \\\\\n",
      "L. d. Taylor naive \\cite{babbush2018low}           & 3.1e+15 & 7.8e+16 & 8.4e+16 & 4.9e+16 & 7.6e+16 & 1.2e+17 & 1.8e+17 & 4.7e+17 \\\\\n",
      "L. d. Tay. on-the-fly \\cite{babbush2018low}        & 1.3e+23 & 2.7e+25 & 4.7e+25 & 3.7e+25 & 8.4e+25 & 1.1e+26 & 5.2e+26 & 8.5e+26 \\\\\n",
      "Linear T \\cite{babbush2018encoding}                & 3.9e+13 & 1.0e+15 & 1.1e+15 & 6.3e+14 & 9.7e+14 & 1.6e+15 & 2.6e+15 & 6.3e+15 \\\\\n",
      "Sparsity low-rank \\cite{berry2019qubitization}     & 1.2e+10 & 4.6e+11 & 6.0e+11 & 1.0e+12 & 1.8e+12 & 1.5e+12 & 6.3e+12 & 5.3e+12 \\\\\n",
      "Interaction picture \\cite{low2018hamiltonian}      & 1.4e+18 & 5.7e+19 & 5.0e+19 & 2.4e+19 & 3.6e+19 & 6.6e+19 & 8.0e+19 & 3.3e+20 \\\\\n",
      "\\bottomrule\n",
      "\\end{tabular}\n",
      "\\end{table}\n",
      "\n"
     ]
    }
   ],
   "source": [
    "df.columns = [r'H$_2$', 'HF', r'H$_2$O', r'NH$_3$', r'CH$_4$', r'O$_2$', r'CO$_2$', 'NaCl']\n",
    "latex_code = df.to_latex(caption='T-gate cost estimates for different molecules and methods obtained using our library', \n",
    "                label= 'tab:costs', escape=False, column_format = '|l'+'|p{1.45cm}'*8+'|')\n",
    "#latex_code = latex_code.replace(\"\\\\\\n\", \"\\\\ \\hline\\n\")\n",
    "print(latex_code)"
   ]
  },
  {
   "cell_type": "code",
   "execution_count": 5,
   "metadata": {},
   "outputs": [
    {
     "data": {
      "text/plain": [
       "\"\\nnorm_factors = {}\\nfor col in df.columns:\\n    div = 10**int(np.log10(df[col]['hydrofluoric acid']))\\n    norm_factors[col] = div\\n    #df[str(col) + '_normal'] = df[col]/div\\n\\ndata = [df[col] for col in df.columns if '_normal' in str(col)]\\nheaders = [col[:-7] for col in df.columns if '_normal' in str(col)]\\nprint(headers)\\ndf_normal = pd.concat(data, axis=1, keys=headers)\\ndf_normal\""
      ]
     },
     "execution_count": 5,
     "metadata": {},
     "output_type": "execute_result"
    }
   ],
   "source": [
    "'''\n",
    "norm_factors = {}\n",
    "for col in df.columns:\n",
    "    div = 10**int(np.log10(df[col]['hydrofluoric acid']))\n",
    "    norm_factors[col] = div\n",
    "    #df[str(col) + '_normal'] = df[col]/div\n",
    "\n",
    "data = [df[col] for col in df.columns if '_normal' in str(col)]\n",
    "headers = [col[:-7] for col in df.columns if '_normal' in str(col)]\n",
    "print(headers)\n",
    "df_normal = pd.concat(data, axis=1, keys=headers)\n",
    "df_normal'''"
   ]
  },
  {
   "cell_type": "code",
   "execution_count": 6,
   "metadata": {},
   "outputs": [
    {
     "data": {
      "text/plain": [
       "Index(['H$_2$', 'HF', 'H$_2$O', 'NH$_3$', 'CH$_4$', 'O$_2$', 'CO$_2$', 'NaCl'], dtype='object')"
      ]
     },
     "execution_count": 6,
     "metadata": {},
     "output_type": "execute_result"
    }
   ],
   "source": [
    "df.columns"
   ]
  },
  {
   "cell_type": "code",
   "execution_count": 7,
   "metadata": {},
   "outputs": [
    {
     "data": {
      "image/png": "[encoded data removed]",
      "text/plain": [
       "<Figure size 432x288 with 1 Axes>"
      ]
     },
     "metadata": {
      "needs_background": "light"
     },
     "output_type": "display_data"
    }
   ],
   "source": [
    "import matplotlib.pyplot as plt\n",
    "fig, ax = plt.subplots()\n",
    "\n",
    "#plt.xlabel(\"Molecule\")\n",
    "plt.ylabel(\"T-gate cost\")\n",
    "plt.yscale('log')\n",
    "plt.xticks(ticks = range(len(labels)), labels = labels, rotation=90)\n",
    "#plt.legend(loc='upper left')\n",
    "\n",
    "# Function add a legend  \n",
    "#plt.legend(list(df.columns), loc='upper left')\n",
    "\n",
    "for col,color in zip(df.columns, ['gray','brown','m','red','darkorange', 'green','blue', 'black']):\n",
    "    ax.scatter(df.index, df[col], label = col,facecolors=\"None\", edgecolors=color, linewidth = 1)\n",
    "\n",
    "ax.legend(bbox_to_anchor=(1, 1))\n",
    "\n",
    "plt.savefig('results/cost_plot.pdf', format='pdf', bbox_inches='tight')\n",
    "plt.show()"
   ]
  },
  {
   "cell_type": "code",
   "execution_count": 8,
   "metadata": {},
   "outputs": [
    {
     "data": {
      "text/plain": [
       "Index(['qDRIFT', 'Rand. Hamilt.', 'Taylor naive', 'Taylor on-the-fly',\n",
       "       'Config. interaction', 'Low depth Trotter', 'SHC Trotter',\n",
       "       'L. d. Taylor naive', 'L. d. Tay. on-the-fly', 'Linear T',\n",
       "       'Sparsity low-rank', 'Interaction picture'],\n",
       "      dtype='object')"
      ]
     },
     "execution_count": 8,
     "metadata": {},
     "output_type": "execute_result"
    }
   ],
   "source": [
    "df2 = df.T\n",
    "df2.columns"
   ]
  },
  {
   "cell_type": "code",
   "execution_count": 9,
   "metadata": {},
   "outputs": [],
   "source": [
    "df2 = df2[['Taylor naive', 'Taylor on-the-fly', 'L. d. Taylor naive', 'L. d. Tay. on-the-fly']].copy()\n"
   ]
  },
  {
   "cell_type": "code",
   "execution_count": 10,
   "metadata": {},
   "outputs": [
    {
     "data": {
      "text/plain": [
       "Index(['H$_2$', 'HF', 'H$_2$O', 'NH$_3$', 'CH$_4$', 'O$_2$', 'CO$_2$', 'NaCl'], dtype='object')"
      ]
     },
     "execution_count": 10,
     "metadata": {},
     "output_type": "execute_result"
    }
   ],
   "source": [
    "df2.index"
   ]
  },
  {
   "cell_type": "code",
   "execution_count": 11,
   "metadata": {},
   "outputs": [
    {
     "data": {
      "image/png": "[encoded data removed]",
      "text/plain": [
       "<Figure size 504x504 with 2 Axes>"
      ]
     },
     "metadata": {
      "needs_background": "light"
     },
     "output_type": "display_data"
    }
   ],
   "source": [
    "fig, (ax2, ax1) = plt.subplots(2, 1, sharex=True,figsize=(7,7))\n",
    "ax1.scatter(df2.index, df2['Taylor naive'], c = 'blue', label = 'Gaussian')\n",
    "ax1.scatter(df2.index, df2['L. d. Taylor naive'], c = 'red', label = 'Plane waves')\n",
    "ax1.set_title('Taylor naive algorithm')\n",
    "ax1.set_yscale('log')\n",
    "ax1.set_ylabel('T-gate cost')\n",
    "ax1.legend(bbox_to_anchor=(0.28, 1))\n",
    "\n",
    "ax2.scatter(df2.index, df2['Taylor on-the-fly'], c = 'blue', label = 'Gaussian')\n",
    "ax2.scatter(df2.index, df2['L. d. Tay. on-the-fly'], c = 'red', label = 'Plane waves')\n",
    "ax2.set_title('Taylor on-the-fly algorithm')\n",
    "ax2.legend(bbox_to_anchor=(0.28, 1))\n",
    "ax2.set_yscale('log')\n",
    "ax2.set_ylabel('T-gate cost')\n",
    "\n",
    "plt.savefig('results/gaussian_vs_plane.pdf', format='pdf', bbox_inches='tight')\n",
    "plt.show()"
   ]
  },
  {
   "cell_type": "markdown",
   "metadata": {},
   "source": [
    "For the results with 160 basis functions"
   ]
  },
  {
   "cell_type": "code",
   "execution_count": null,
   "metadata": {},
   "outputs": [],
   "source": [
    "df_160 = pd.read_csv('results/results_160.csv', delimiter  = ',', index_col = 'Methods')\n",
    "df2_160 = df_160[['Taylor naive', 'Taylor on-the-fly', 'L. d. Taylor naive', 'L. d. Tay. on-the-fly']].copy()\n"
   ]
  },
  {
   "cell_type": "code",
   "execution_count": null,
   "metadata": {},
   "outputs": [],
   "source": []
  },
  {
   "cell_type": "code",
   "execution_count": null,
   "metadata": {},
   "outputs": [],
   "source": [
    "fig, (ax2, ax1) = plt.subplots(2, 1, sharex=True,figsize=(7,7))\n",
    "ax1.scatter(df2.index, df2['Taylor naive'], c = 'blue', label = 'Gaussian')\n",
    "ax1.scatter(df2.index, df2['L. d. Taylor naive'], c = 'red', label = 'Plane waves (x100)')\n",
    "ax1.scatter(df2.index, df2_160['L. d. Taylor naive'], c = 'green', label = 'Plane waves (x160)')\n",
    "ax1.set_title('Taylor naive algorithm')\n",
    "ax1.set_yscale('log')\n",
    "ax1.set_ylabel('T-gate cost')\n",
    "ax1.legend(bbox_to_anchor=(0.28, 1))\n",
    "\n",
    "ax2.scatter(df2.index, df2['Taylor on-the-fly'], c = 'blue', label = 'Gaussian')\n",
    "ax2.scatter(df2.index, df2['L. d. Tay. on-the-fly'], c = 'red', label = 'Plane waves (x100)')\n",
    "ax2.scatter(df2.index, df2_160['L. d. Tay. on-the-fly'], c = 'green', label = 'Plane waves (x160)')\n",
    "ax2.set_title('Taylor on-the-fly algorithm')\n",
    "ax2.legend(bbox_to_anchor=(0.28, 1))\n",
    "ax2.set_yscale('log')\n",
    "ax2.set_ylabel('T-gate cost')\n",
    "\n",
    "plt.savefig('results/gaussian_vs_plane.pdf', format='pdf', bbox_inches='tight')\n",
    "plt.show()"
   ]
  }
 ],
 "metadata": {
  "interpreter": {
   "hash": "17176de679f8140ba45dd72324e6c9e95c7f4108addec9e9c9cae8674d5b9c58"
  },
  "kernelspec": {
   "display_name": "Python 3.6.12 64-bit ('openfermion': conda)",
   "name": "python3"
  },
  "language_info": {
   "codemirror_mode": {
    "name": "ipython",
    "version": 3
   },
   "file_extension": ".py",
   "mimetype": "text/x-python",
   "name": "python",
   "nbconvert_exporter": "python",
   "pygments_lexer": "ipython3",
   "version": "3.6.12"
  },
  "orig_nbformat": 4
 },
 "nbformat": 4,
 "nbformat_minor": 2
}
