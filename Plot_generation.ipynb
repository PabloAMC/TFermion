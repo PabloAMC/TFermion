{
 "cells": [
  {
   "cell_type": "markdown",
   "metadata": {},
   "source": [
    "# Plot generation"
   ]
  },
  {
   "cell_type": "markdown",
   "metadata": {},
   "source": [
    "This notebook reads the result files and generates plots. "
   ]
  },
  {
   "cell_type": "code",
   "execution_count": 5,
   "metadata": {},
   "outputs": [],
   "source": [
    "import pandas as pd\n",
    "import numpy as np\n",
    "\n",
    "pd.set_option('display.float_format', lambda x: \"{:0.1e}\".format(x))"
   ]
  },
  {
   "cell_type": "code",
   "execution_count": 6,
   "metadata": {},
   "outputs": [],
   "source": [
    "df = pd.read_csv('results/results.csv', delimiter  = ',', index_col = 'Methods')"
   ]
  },
  {
   "cell_type": "code",
   "execution_count": 8,
   "metadata": {},
   "outputs": [
    {
     "name": "stdout",
     "output_type": "stream",
     "text": [
      "Index(['qdrift', 'rand_ham', 'taylor_naive', 'taylor_on_the_fly',\n",
      "       'configuration_interaction', 'low_depth_trotter', 'shc_trotter',\n",
      "       'low_depth_taylor', 'low_depth_taylor_on_the_fly', 'linear_t',\n",
      "       'sparsity_low_rank', 'interaction_picture'],\n",
      "      dtype='object', name='Methods')\n"
     ]
    },
    {
     "data": {
      "text/html": [
       "<div>\n",
       "<style scoped>\n",
       "    .dataframe tbody tr th:only-of-type {\n",
       "        vertical-align: middle;\n",
       "    }\n",
       "\n",
       "    .dataframe tbody tr th {\n",
       "        vertical-align: top;\n",
       "    }\n",
       "\n",
       "    .dataframe thead th {\n",
       "        text-align: right;\n",
       "    }\n",
       "</style>\n",
       "<table border=\"1\" class=\"dataframe\">\n",
       "  <thead>\n",
       "    <tr style=\"text-align: right;\">\n",
       "      <th></th>\n",
       "      <th>h2</th>\n",
       "      <th>hydrofluoric acid</th>\n",
       "      <th>water</th>\n",
       "      <th>ammonia</th>\n",
       "      <th>methane</th>\n",
       "      <th>O2</th>\n",
       "      <th>CO2</th>\n",
       "      <th>NaCl</th>\n",
       "    </tr>\n",
       "  </thead>\n",
       "  <tbody>\n",
       "    <tr>\n",
       "      <th>qDRIFT</th>\n",
       "      <td>6.8e+21</td>\n",
       "      <td>1.3e+24</td>\n",
       "      <td>1.5e+24</td>\n",
       "      <td>2.7e+24</td>\n",
       "      <td>4.2e+24</td>\n",
       "      <td>5.5e+24</td>\n",
       "      <td>2.8e+25</td>\n",
       "      <td>4.4e+25</td>\n",
       "    </tr>\n",
       "    <tr>\n",
       "      <th>Rand. Hamilt.</th>\n",
       "      <td>1.8e+19</td>\n",
       "      <td>3.0e+24</td>\n",
       "      <td>1.3e+25</td>\n",
       "      <td>8.4e+25</td>\n",
       "      <td>1.1e+26</td>\n",
       "      <td>1.4e+25</td>\n",
       "      <td>9.4e+26</td>\n",
       "      <td>4.2e+28</td>\n",
       "    </tr>\n",
       "    <tr>\n",
       "      <th>Taylor naive</th>\n",
       "      <td>1.7e+13</td>\n",
       "      <td>7.9e+16</td>\n",
       "      <td>8.4e+16</td>\n",
       "      <td>1.1e+17</td>\n",
       "      <td>2.4e+18</td>\n",
       "      <td>2.7e+18</td>\n",
       "      <td>6.4e+18</td>\n",
       "      <td>8.2e+18</td>\n",
       "    </tr>\n",
       "    <tr>\n",
       "      <th>Taylor on-the-fly</th>\n",
       "      <td>7.0e+26</td>\n",
       "      <td>3.0e+29</td>\n",
       "      <td>4.7e+29</td>\n",
       "      <td>1.8e+29</td>\n",
       "      <td>3.6e+30</td>\n",
       "      <td>2.5e+31</td>\n",
       "      <td>1.6e+33</td>\n",
       "      <td>2.5e+33</td>\n",
       "    </tr>\n",
       "    <tr>\n",
       "      <th>Config. interaction</th>\n",
       "      <td>1.6e+36</td>\n",
       "      <td>8.4e+38</td>\n",
       "      <td>9.8e+38</td>\n",
       "      <td>1.4e+38</td>\n",
       "      <td>3.6e+39</td>\n",
       "      <td>8.3e+40</td>\n",
       "      <td>2.4e+43</td>\n",
       "      <td>1.5e+46</td>\n",
       "    </tr>\n",
       "    <tr>\n",
       "      <th>Low depth Trotter</th>\n",
       "      <td>5.7e+22</td>\n",
       "      <td>6.3e+25</td>\n",
       "      <td>5.1e+25</td>\n",
       "      <td>2.4e+25</td>\n",
       "      <td>4.0e+25</td>\n",
       "      <td>2.1e+26</td>\n",
       "      <td>4.0e+26</td>\n",
       "      <td>3.3e+27</td>\n",
       "    </tr>\n",
       "    <tr>\n",
       "      <th>SHC Trotter</th>\n",
       "      <td>1.1e+22</td>\n",
       "      <td>1.7e+25</td>\n",
       "      <td>2.0e+25</td>\n",
       "      <td>1.2e+25</td>\n",
       "      <td>2.0e+25</td>\n",
       "      <td>9.8e+25</td>\n",
       "      <td>3.6e+26</td>\n",
       "      <td>1.6e+27</td>\n",
       "    </tr>\n",
       "    <tr>\n",
       "      <th>L. d. Taylor naive</th>\n",
       "      <td>1.9e+15</td>\n",
       "      <td>4.7e+16</td>\n",
       "      <td>5.1e+16</td>\n",
       "      <td>2.8e+16</td>\n",
       "      <td>4.4e+16</td>\n",
       "      <td>7.1e+16</td>\n",
       "      <td>1.1e+17</td>\n",
       "      <td>2.7e+17</td>\n",
       "    </tr>\n",
       "    <tr>\n",
       "      <th>L. d. Tay. on-the-fly</th>\n",
       "      <td>7.6e+22</td>\n",
       "      <td>1.6e+25</td>\n",
       "      <td>2.7e+25</td>\n",
       "      <td>2.2e+25</td>\n",
       "      <td>4.8e+25</td>\n",
       "      <td>6.5e+25</td>\n",
       "      <td>3.1e+26</td>\n",
       "      <td>4.8e+26</td>\n",
       "    </tr>\n",
       "    <tr>\n",
       "      <th>Linear T</th>\n",
       "      <td>2.3e+13</td>\n",
       "      <td>6.1e+14</td>\n",
       "      <td>6.8e+14</td>\n",
       "      <td>3.9e+14</td>\n",
       "      <td>5.9e+14</td>\n",
       "      <td>9.7e+14</td>\n",
       "      <td>1.5e+15</td>\n",
       "      <td>3.7e+15</td>\n",
       "    </tr>\n",
       "    <tr>\n",
       "      <th>Sparsity low-rank</th>\n",
       "      <td>7.4e+09</td>\n",
       "      <td>2.8e+11</td>\n",
       "      <td>3.6e+11</td>\n",
       "      <td>6.0e+11</td>\n",
       "      <td>1.1e+12</td>\n",
       "      <td>9.2e+11</td>\n",
       "      <td>3.7e+12</td>\n",
       "      <td>3.1e+12</td>\n",
       "    </tr>\n",
       "    <tr>\n",
       "      <th>Interaction picture</th>\n",
       "      <td>8.9e+17</td>\n",
       "      <td>3.3e+19</td>\n",
       "      <td>2.8e+19</td>\n",
       "      <td>1.4e+19</td>\n",
       "      <td>2.1e+19</td>\n",
       "      <td>3.8e+19</td>\n",
       "      <td>4.7e+19</td>\n",
       "      <td>2.0e+20</td>\n",
       "    </tr>\n",
       "  </tbody>\n",
       "</table>\n",
       "</div>"
      ],
      "text/plain": [
       "                           h2  hydrofluoric acid   water  ammonia  methane  \\\n",
       "qDRIFT                6.8e+21            1.3e+24 1.5e+24  2.7e+24  4.2e+24   \n",
       "Rand. Hamilt.         1.8e+19            3.0e+24 1.3e+25  8.4e+25  1.1e+26   \n",
       "Taylor naive          1.7e+13            7.9e+16 8.4e+16  1.1e+17  2.4e+18   \n",
       "Taylor on-the-fly     7.0e+26            3.0e+29 4.7e+29  1.8e+29  3.6e+30   \n",
       "Config. interaction   1.6e+36            8.4e+38 9.8e+38  1.4e+38  3.6e+39   \n",
       "Low depth Trotter     5.7e+22            6.3e+25 5.1e+25  2.4e+25  4.0e+25   \n",
       "SHC Trotter           1.1e+22            1.7e+25 2.0e+25  1.2e+25  2.0e+25   \n",
       "L. d. Taylor naive    1.9e+15            4.7e+16 5.1e+16  2.8e+16  4.4e+16   \n",
       "L. d. Tay. on-the-fly 7.6e+22            1.6e+25 2.7e+25  2.2e+25  4.8e+25   \n",
       "Linear T              2.3e+13            6.1e+14 6.8e+14  3.9e+14  5.9e+14   \n",
       "Sparsity low-rank     7.4e+09            2.8e+11 3.6e+11  6.0e+11  1.1e+12   \n",
       "Interaction picture   8.9e+17            3.3e+19 2.8e+19  1.4e+19  2.1e+19   \n",
       "\n",
       "                           O2     CO2    NaCl  \n",
       "qDRIFT                5.5e+24 2.8e+25 4.4e+25  \n",
       "Rand. Hamilt.         1.4e+25 9.4e+26 4.2e+28  \n",
       "Taylor naive          2.7e+18 6.4e+18 8.2e+18  \n",
       "Taylor on-the-fly     2.5e+31 1.6e+33 2.5e+33  \n",
       "Config. interaction   8.3e+40 2.4e+43 1.5e+46  \n",
       "Low depth Trotter     2.1e+26 4.0e+26 3.3e+27  \n",
       "SHC Trotter           9.8e+25 3.6e+26 1.6e+27  \n",
       "L. d. Taylor naive    7.1e+16 1.1e+17 2.7e+17  \n",
       "L. d. Tay. on-the-fly 6.5e+25 3.1e+26 4.8e+26  \n",
       "Linear T              9.7e+14 1.5e+15 3.7e+15  \n",
       "Sparsity low-rank     9.2e+11 3.7e+12 3.1e+12  \n",
       "Interaction picture   3.8e+19 4.7e+19 2.0e+20  "
      ]
     },
     "execution_count": 8,
     "metadata": {},
     "output_type": "execute_result"
    }
   ],
   "source": [
    "labels = ['qDRIFT', 'Rand. Hamilt.', \"Taylor naive\", \"Taylor on-the-fly\", \"Config. interaction\",\n",
    "        \"Low depth Trotter\", \"SHC Trotter\", \"L. d. Taylor naive\", \"L. d. Tay. on-the-fly\", \"Linear T\", \"Sparsity low-rank\", \n",
    "        \"Interaction picture\"]\n",
    "print(df.index)\n",
    "df.index = labels\n",
    "#df.index.name = 'Methods'\n",
    "df"
   ]
  },
  {
   "cell_type": "code",
   "execution_count": 9,
   "metadata": {},
   "outputs": [
    {
     "name": "stdout",
     "output_type": "stream",
     "text": [
      "\\begin{table}\n",
      "\\centering\n",
      "\\caption{T-gate cost estimates for different molecules and methods obtained using our library}\n",
      "\\label{tab:costs}\n",
      "\\begin{tabular}{|l|p{1.55cm}|p{1.55cm}|p{1.55cm}|p{1.55cm}|p{1.55cm}|p{1.55cm}|p{1.55cm}|p{1.55cm}|}\n",
      "\\toprule\n",
      "{} &   H$_2$ &      HF &  H$_2$O &  NH$_3$ &  CH$_4$ &   O$_2$ &  CO$_2$ &    NaCl \\\\\n",
      "\\midrule\n",
      "qDRIFT                & 6.8e+21 & 1.3e+24 & 1.5e+24 & 2.7e+24 & 4.2e+24 & 5.5e+24 & 2.8e+25 & 4.4e+25 \\\\\n",
      "Rand. Hamilt.         & 1.8e+19 & 3.0e+24 & 1.3e+25 & 8.4e+25 & 1.1e+26 & 1.4e+25 & 9.4e+26 & 4.2e+28 \\\\\n",
      "Taylor naive          & 1.7e+13 & 7.9e+16 & 8.4e+16 & 1.1e+17 & 2.4e+18 & 2.7e+18 & 6.4e+18 & 8.2e+18 \\\\\n",
      "Taylor on-the-fly     & 7.0e+26 & 3.0e+29 & 4.7e+29 & 1.8e+29 & 3.6e+30 & 2.5e+31 & 1.6e+33 & 2.5e+33 \\\\\n",
      "Config. interaction   & 1.6e+36 & 8.4e+38 & 9.8e+38 & 1.4e+38 & 3.6e+39 & 8.3e+40 & 2.4e+43 & 1.5e+46 \\\\\n",
      "Low depth Trotter     & 5.7e+22 & 6.3e+25 & 5.1e+25 & 2.4e+25 & 4.0e+25 & 2.1e+26 & 4.0e+26 & 3.3e+27 \\\\\n",
      "SHC Trotter           & 1.1e+22 & 1.7e+25 & 2.0e+25 & 1.2e+25 & 2.0e+25 & 9.8e+25 & 3.6e+26 & 1.6e+27 \\\\\n",
      "L. d. Taylor naive    & 1.9e+15 & 4.7e+16 & 5.1e+16 & 2.8e+16 & 4.4e+16 & 7.1e+16 & 1.1e+17 & 2.7e+17 \\\\\n",
      "L. d. Tay. on-the-fly & 7.6e+22 & 1.6e+25 & 2.7e+25 & 2.2e+25 & 4.8e+25 & 6.5e+25 & 3.1e+26 & 4.8e+26 \\\\\n",
      "Linear T              & 2.3e+13 & 6.1e+14 & 6.8e+14 & 3.9e+14 & 5.9e+14 & 9.7e+14 & 1.5e+15 & 3.7e+15 \\\\\n",
      "Sparsity low-rank     & 7.4e+09 & 2.8e+11 & 3.6e+11 & 6.0e+11 & 1.1e+12 & 9.2e+11 & 3.7e+12 & 3.1e+12 \\\\\n",
      "Interaction picture   & 8.9e+17 & 3.3e+19 & 2.8e+19 & 1.4e+19 & 2.1e+19 & 3.8e+19 & 4.7e+19 & 2.0e+20 \\\\\n",
      "\\bottomrule\n",
      "\\end{tabular}\n",
      "\\end{table}\n",
      "\n"
     ]
    }
   ],
   "source": [
    "df.columns = [r'H$_2$', 'HF', r'H$_2$O', r'NH$_3$', r'CH$_4$', r'O$_2$', r'CO$_2$', 'NaCl']\n",
    "latex_code = df.to_latex(caption='T-gate cost estimates for different molecules and methods obtained using our library', \n",
    "                label= 'tab:costs', escape=False, column_format = '|l'+'|p{1.45cm}'*8+'|')\n",
    "#latex_code = latex_code.replace(\"\\\\\\n\", \"\\\\ \\hline\\n\")\n",
    "print(latex_code)"
   ]
  },
  {
   "cell_type": "code",
   "execution_count": null,
   "metadata": {},
   "outputs": [
    {
     "data": {
      "text/plain": [
       "\"\\nnorm_factors = {}\\nfor col in df.columns:\\n    div = 10**int(np.log10(df[col]['hydrofluoric acid']))\\n    norm_factors[col] = div\\n    #df[str(col) + '_normal'] = df[col]/div\\n\\ndata = [df[col] for col in df.columns if '_normal' in str(col)]\\nheaders = [col[:-7] for col in df.columns if '_normal' in str(col)]\\nprint(headers)\\ndf_normal = pd.concat(data, axis=1, keys=headers)\\ndf_normal\""
      ]
     },
     "execution_count": 5,
     "metadata": {},
     "output_type": "execute_result"
    }
   ],
   "source": [
    "'''\n",
    "norm_factors = {}\n",
    "for col in df.columns:\n",
    "    div = 10**int(np.log10(df[col]['hydrofluoric acid']))\n",
    "    norm_factors[col] = div\n",
    "    #df[str(col) + '_normal'] = df[col]/div\n",
    "\n",
    "data = [df[col] for col in df.columns if '_normal' in str(col)]\n",
    "headers = [col[:-7] for col in df.columns if '_normal' in str(col)]\n",
    "print(headers)\n",
    "df_normal = pd.concat(data, axis=1, keys=headers)\n",
    "df_normal'''"
   ]
  },
  {
   "cell_type": "code",
   "execution_count": 10,
   "metadata": {},
   "outputs": [
    {
     "data": {
      "text/plain": [
       "Index(['H$_2$', 'HF', 'H$_2$O', 'NH$_3$', 'CH$_4$', 'O$_2$', 'CO$_2$', 'NaCl'], dtype='object')"
      ]
     },
     "execution_count": 10,
     "metadata": {},
     "output_type": "execute_result"
    }
   ],
   "source": [
    "df.columns"
   ]
  },
  {
   "cell_type": "code",
   "execution_count": 11,
   "metadata": {},
   "outputs": [
    {
     "data": {
      "image/png": "[encoded data removed]",
      "text/plain": [
       "<Figure size 432x288 with 1 Axes>"
      ]
     },
     "metadata": {
      "needs_background": "light"
     },
     "output_type": "display_data"
    }
   ],
   "source": [
    "import matplotlib.pyplot as plt\n",
    "fig, ax = plt.subplots()\n",
    "\n",
    "#plt.xlabel(\"Molecule\")\n",
    "plt.ylabel(\"T-gate cost\")\n",
    "plt.yscale('log')\n",
    "plt.xticks(ticks = range(len(labels)), labels = labels, rotation=90)\n",
    "#plt.legend(loc='upper left')\n",
    "\n",
    "# Function add a legend  \n",
    "#plt.legend(list(df.columns), loc='upper left')\n",
    "\n",
    "for col,color in zip(df.columns, ['gray','brown','m','red','darkorange', 'green','blue', 'black']):\n",
    "    ax.scatter(df.index, df[col], label = col,facecolors=\"None\", edgecolors=color, linewidth = 1)\n",
    "\n",
    "ax.legend(bbox_to_anchor=(1, 1))\n",
    "\n",
    "plt.savefig('results/cost_plot.pdf', format='pdf', bbox_inches='tight')\n",
    "plt.show()"
   ]
  },
  {
   "cell_type": "code",
   "execution_count": 12,
   "metadata": {},
   "outputs": [
    {
     "data": {
      "text/plain": [
       "Index(['qDRIFT', 'Rand. Hamilt.', 'Taylor naive', 'Taylor on-the-fly',\n",
       "       'Config. interaction', 'Low depth Trotter', 'SHC Trotter',\n",
       "       'L. d. Taylor naive', 'L. d. Tay. on-the-fly', 'Linear T',\n",
       "       'Sparsity low-rank', 'Interaction picture'],\n",
       "      dtype='object')"
      ]
     },
     "execution_count": 12,
     "metadata": {},
     "output_type": "execute_result"
    }
   ],
   "source": [
    "df2 = df.T\n",
    "df2.columns"
   ]
  },
  {
   "cell_type": "code",
   "execution_count": 13,
   "metadata": {},
   "outputs": [],
   "source": [
    "df2 = df2[['Taylor naive', 'Taylor on-the-fly', 'L. d. Taylor naive', 'L. d. Tay. on-the-fly']].copy()\n"
   ]
  },
  {
   "cell_type": "code",
   "execution_count": 14,
   "metadata": {},
   "outputs": [
    {
     "data": {
      "text/plain": [
       "Index(['H$_2$', 'HF', 'H$_2$O', 'NH$_3$', 'CH$_4$', 'O$_2$', 'CO$_2$', 'NaCl'], dtype='object')"
      ]
     },
     "execution_count": 14,
     "metadata": {},
     "output_type": "execute_result"
    }
   ],
   "source": [
    "df2.index"
   ]
  },
  {
   "cell_type": "code",
   "execution_count": 15,
   "metadata": {},
   "outputs": [
    {
     "data": {
      "image/png": "[encoded data removed]",
      "text/plain": [
       "<Figure size 504x504 with 2 Axes>"
      ]
     },
     "metadata": {
      "needs_background": "light"
     },
     "output_type": "display_data"
    }
   ],
   "source": [
    "fig, (ax2, ax1) = plt.subplots(2, 1, sharex=True,figsize=(7,7))\n",
    "ax1.scatter(df2.index, df2['Taylor naive'], c = 'blue', label = 'Gaussian')\n",
    "ax1.scatter(df2.index, df2['L. d. Taylor naive'], c = 'red', label = 'Plane waves')\n",
    "ax1.set_title('Taylor naive algorithm')\n",
    "ax1.set_yscale('log')\n",
    "ax1.set_ylabel('T-gate cost')\n",
    "ax1.legend(bbox_to_anchor=(0.28, 1))\n",
    "\n",
    "ax2.scatter(df2.index, df2['Taylor on-the-fly'], c = 'blue', label = 'Gaussian')\n",
    "ax2.scatter(df2.index, df2['L. d. Tay. on-the-fly'], c = 'red', label = 'Plane waves')\n",
    "ax2.set_title('Taylor on-the-fly algorithm')\n",
    "ax2.legend(bbox_to_anchor=(0.28, 1))\n",
    "ax2.set_yscale('log')\n",
    "ax2.set_ylabel('T-gate cost')\n",
    "\n",
    "plt.savefig('results/gaussian_vs_plane.pdf', format='pdf', bbox_inches='tight')\n",
    "plt.show()"
   ]
  },
  {
   "cell_type": "code",
   "execution_count": null,
   "metadata": {},
   "outputs": [],
   "source": []
  },
  {
   "cell_type": "code",
   "execution_count": null,
   "metadata": {},
   "outputs": [],
   "source": []
  },
  {
   "cell_type": "code",
   "execution_count": null,
   "metadata": {},
   "outputs": [],
   "source": []
  }
 ],
 "metadata": {
  "interpreter": {
   "hash": "17176de679f8140ba45dd72324e6c9e95c7f4108addec9e9c9cae8674d5b9c58"
  },
  "kernelspec": {
   "display_name": "Python 3.6.12 64-bit ('openfermion': conda)",
   "name": "python3"
  },
  "language_info": {
   "codemirror_mode": {
    "name": "ipython",
    "version": 3
   },
   "file_extension": ".py",
   "mimetype": "text/x-python",
   "name": "python",
   "nbconvert_exporter": "python",
   "pygments_lexer": "ipython3",
   "version": "3.6.12"
  },
  "orig_nbformat": 4
 },
 "nbformat": 4,
 "nbformat_minor": 2
}
