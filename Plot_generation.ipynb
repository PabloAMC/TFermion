{
 "cells": [
  {
   "cell_type": "markdown",
   "metadata": {},
   "source": [
    "# Plot generation"
   ]
  },
  {
   "cell_type": "markdown",
   "metadata": {},
   "source": [
    "This notebook reads the result files and generates plots. "
   ]
  },
  {
   "cell_type": "code",
   "execution_count": 43,
   "metadata": {},
   "outputs": [],
   "source": [
    "import pandas as pd\n",
    "import numpy as np\n",
    "\n",
    "pd.set_option('display.float_format', lambda x: \"{:0.1e}\".format(x))"
   ]
  },
  {
   "cell_type": "code",
   "execution_count": 44,
   "metadata": {},
   "outputs": [],
   "source": [
    "df = pd.read_csv('results/results_100.csv', delimiter  = ',', index_col = 'Methods')"
   ]
  },
  {
   "cell_type": "code",
   "execution_count": 45,
   "metadata": {},
   "outputs": [
    {
     "name": "stdout",
     "output_type": "stream",
     "text": [
      "Index(['qdrift', 'rand_ham', 'taylor_naive', 'taylor_on_the_fly',\n",
      "       'configuration_interaction', 'low_depth_trotter', 'shc_trotter',\n",
      "       'low_depth_taylor', 'low_depth_taylor_on_the_fly', 'linear_t',\n",
      "       'sparsity_low_rank', 'interaction_picture'],\n",
      "      dtype='object', name='Methods')\n"
     ]
    },
    {
     "data": {
      "text/html": [
       "<div>\n",
       "<style scoped>\n",
       "    .dataframe tbody tr th:only-of-type {\n",
       "        vertical-align: middle;\n",
       "    }\n",
       "\n",
       "    .dataframe tbody tr th {\n",
       "        vertical-align: top;\n",
       "    }\n",
       "\n",
       "    .dataframe thead th {\n",
       "        text-align: right;\n",
       "    }\n",
       "</style>\n",
       "<table border=\"1\" class=\"dataframe\">\n",
       "  <thead>\n",
       "    <tr style=\"text-align: right;\">\n",
       "      <th></th>\n",
       "      <th>h2</th>\n",
       "      <th>hydrofluoric acid</th>\n",
       "      <th>water</th>\n",
       "      <th>ammonia</th>\n",
       "      <th>methane</th>\n",
       "      <th>O2</th>\n",
       "      <th>CO2</th>\n",
       "      <th>NaCl</th>\n",
       "    </tr>\n",
       "  </thead>\n",
       "  <tbody>\n",
       "    <tr>\n",
       "      <th>qDRIFT</th>\n",
       "      <td>6.1e+16</td>\n",
       "      <td>1.2e+19</td>\n",
       "      <td>1.4e+19</td>\n",
       "      <td>2.4e+19</td>\n",
       "      <td>4.0e+19</td>\n",
       "      <td>4.8e+19</td>\n",
       "      <td>2.3e+20</td>\n",
       "      <td>4.0e+20</td>\n",
       "    </tr>\n",
       "    <tr>\n",
       "      <th>Rand. Hamilt.</th>\n",
       "      <td>3.0e+17</td>\n",
       "      <td>5.3e+22</td>\n",
       "      <td>2.4e+23</td>\n",
       "      <td>1.4e+24</td>\n",
       "      <td>2.0e+24</td>\n",
       "      <td>2.4e+23</td>\n",
       "      <td>1.6e+25</td>\n",
       "      <td>7.2e+26</td>\n",
       "    </tr>\n",
       "    <tr>\n",
       "      <th>Taylor naive</th>\n",
       "      <td>4.2e+13</td>\n",
       "      <td>1.8e+17</td>\n",
       "      <td>2.0e+17</td>\n",
       "      <td>2.7e+17</td>\n",
       "      <td>6.2e+18</td>\n",
       "      <td>7.0e+18</td>\n",
       "      <td>1.5e+19</td>\n",
       "      <td>2.0e+19</td>\n",
       "    </tr>\n",
       "    <tr>\n",
       "      <th>Taylor on-the-fly</th>\n",
       "      <td>2.2e+27</td>\n",
       "      <td>9.4e+29</td>\n",
       "      <td>1.4e+30</td>\n",
       "      <td>5.3e+29</td>\n",
       "      <td>1.1e+31</td>\n",
       "      <td>7.1e+31</td>\n",
       "      <td>4.7e+33</td>\n",
       "      <td>7.7e+33</td>\n",
       "    </tr>\n",
       "    <tr>\n",
       "      <th>Config. interaction</th>\n",
       "      <td>4.7e+36</td>\n",
       "      <td>2.4e+39</td>\n",
       "      <td>2.8e+39</td>\n",
       "      <td>3.9e+38</td>\n",
       "      <td>1.0e+40</td>\n",
       "      <td>8.3e+40</td>\n",
       "      <td>2.5e+43</td>\n",
       "      <td>4.3e+46</td>\n",
       "    </tr>\n",
       "    <tr>\n",
       "      <th>Low depth Trotter</th>\n",
       "      <td>7.0e+22</td>\n",
       "      <td>7.7e+25</td>\n",
       "      <td>6.6e+25</td>\n",
       "      <td>3.0e+25</td>\n",
       "      <td>4.9e+25</td>\n",
       "      <td>2.6e+26</td>\n",
       "      <td>5.0e+26</td>\n",
       "      <td>4.2e+27</td>\n",
       "    </tr>\n",
       "    <tr>\n",
       "      <th>SHC Trotter</th>\n",
       "      <td>1.4e+22</td>\n",
       "      <td>2.1e+25</td>\n",
       "      <td>2.4e+25</td>\n",
       "      <td>1.5e+25</td>\n",
       "      <td>2.5e+25</td>\n",
       "      <td>1.2e+26</td>\n",
       "      <td>4.4e+26</td>\n",
       "      <td>1.8e+27</td>\n",
       "    </tr>\n",
       "    <tr>\n",
       "      <th>L. d. Taylor naive</th>\n",
       "      <td>2.2e+15</td>\n",
       "      <td>5.4e+16</td>\n",
       "      <td>6.1e+16</td>\n",
       "      <td>3.4e+16</td>\n",
       "      <td>5.3e+16</td>\n",
       "      <td>8.4e+16</td>\n",
       "      <td>1.3e+17</td>\n",
       "      <td>3.3e+17</td>\n",
       "    </tr>\n",
       "    <tr>\n",
       "      <th>L. d. Tay. on-the-fly</th>\n",
       "      <td>8.7e+22</td>\n",
       "      <td>1.8e+25</td>\n",
       "      <td>3.2e+25</td>\n",
       "      <td>2.5e+25</td>\n",
       "      <td>5.5e+25</td>\n",
       "      <td>7.5e+25</td>\n",
       "      <td>3.6e+26</td>\n",
       "      <td>5.8e+26</td>\n",
       "    </tr>\n",
       "    <tr>\n",
       "      <th>Linear T</th>\n",
       "      <td>2.7e+13</td>\n",
       "      <td>7.2e+14</td>\n",
       "      <td>7.9e+14</td>\n",
       "      <td>4.4e+14</td>\n",
       "      <td>7.2e+14</td>\n",
       "      <td>1.1e+15</td>\n",
       "      <td>1.8e+15</td>\n",
       "      <td>4.3e+15</td>\n",
       "    </tr>\n",
       "    <tr>\n",
       "      <th>Sparsity low-rank</th>\n",
       "      <td>8.7e+09</td>\n",
       "      <td>3.2e+11</td>\n",
       "      <td>4.1e+11</td>\n",
       "      <td>7.0e+11</td>\n",
       "      <td>1.3e+12</td>\n",
       "      <td>1.1e+12</td>\n",
       "      <td>4.4e+12</td>\n",
       "      <td>3.6e+12</td>\n",
       "    </tr>\n",
       "    <tr>\n",
       "      <th>Interaction picture</th>\n",
       "      <td>6.6e+17</td>\n",
       "      <td>2.5e+19</td>\n",
       "      <td>2.2e+19</td>\n",
       "      <td>1.1e+19</td>\n",
       "      <td>1.7e+19</td>\n",
       "      <td>2.9e+19</td>\n",
       "      <td>3.7e+19</td>\n",
       "      <td>1.5e+20</td>\n",
       "    </tr>\n",
       "  </tbody>\n",
       "</table>\n",
       "</div>"
      ],
      "text/plain": [
       "                           h2  hydrofluoric acid   water  ammonia  methane  \\\n",
       "qDRIFT                6.1e+16            1.2e+19 1.4e+19  2.4e+19  4.0e+19   \n",
       "Rand. Hamilt.         3.0e+17            5.3e+22 2.4e+23  1.4e+24  2.0e+24   \n",
       "Taylor naive          4.2e+13            1.8e+17 2.0e+17  2.7e+17  6.2e+18   \n",
       "Taylor on-the-fly     2.2e+27            9.4e+29 1.4e+30  5.3e+29  1.1e+31   \n",
       "Config. interaction   4.7e+36            2.4e+39 2.8e+39  3.9e+38  1.0e+40   \n",
       "Low depth Trotter     7.0e+22            7.7e+25 6.6e+25  3.0e+25  4.9e+25   \n",
       "SHC Trotter           1.4e+22            2.1e+25 2.4e+25  1.5e+25  2.5e+25   \n",
       "L. d. Taylor naive    2.2e+15            5.4e+16 6.1e+16  3.4e+16  5.3e+16   \n",
       "L. d. Tay. on-the-fly 8.7e+22            1.8e+25 3.2e+25  2.5e+25  5.5e+25   \n",
       "Linear T              2.7e+13            7.2e+14 7.9e+14  4.4e+14  7.2e+14   \n",
       "Sparsity low-rank     8.7e+09            3.2e+11 4.1e+11  7.0e+11  1.3e+12   \n",
       "Interaction picture   6.6e+17            2.5e+19 2.2e+19  1.1e+19  1.7e+19   \n",
       "\n",
       "                           O2     CO2    NaCl  \n",
       "qDRIFT                4.8e+19 2.3e+20 4.0e+20  \n",
       "Rand. Hamilt.         2.4e+23 1.6e+25 7.2e+26  \n",
       "Taylor naive          7.0e+18 1.5e+19 2.0e+19  \n",
       "Taylor on-the-fly     7.1e+31 4.7e+33 7.7e+33  \n",
       "Config. interaction   8.3e+40 2.5e+43 4.3e+46  \n",
       "Low depth Trotter     2.6e+26 5.0e+26 4.2e+27  \n",
       "SHC Trotter           1.2e+26 4.4e+26 1.8e+27  \n",
       "L. d. Taylor naive    8.4e+16 1.3e+17 3.3e+17  \n",
       "L. d. Tay. on-the-fly 7.5e+25 3.6e+26 5.8e+26  \n",
       "Linear T              1.1e+15 1.8e+15 4.3e+15  \n",
       "Sparsity low-rank     1.1e+12 4.4e+12 3.6e+12  \n",
       "Interaction picture   2.9e+19 3.7e+19 1.5e+20  "
      ]
     },
     "execution_count": 45,
     "metadata": {},
     "output_type": "execute_result"
    }
   ],
   "source": [
    "labels = ['qDRIFT \\cite{campbell2019random}', 'Rand. Hamilt. \\cite{campbell2019random}', \"Taylor naive \\cite{babbush2016exponentially}\", \"Taylor on-the-fly \\cite{babbush2016exponentially}\", \"Config. interaction \\cite{babbush2017exponentially}\",\n",
    "        \"Low depth Trotter \\cite{babbush2018low}\", \"SHC Trotter \\cite{babbush2018low,mcardle2022exploiting}\", \"L. d. Taylor naive \\cite{babbush2018low}\", \"L. d. Tay. on-the-fly \\cite{babbush2018low}\", \"Linear T \\cite{babbush2018encoding}\", \"Sparsity low-rank \\cite{berry2019qubitization}\", \n",
    "        \"Interaction picture \\cite{low2018hamiltonian}\"]\n",
    "labels = ['qDRIFT', 'Rand. Hamilt.', \"Taylor naive\", \"Taylor on-the-fly\", \"Config. interaction\",\n",
    "        \"Low depth Trotter\", \"SHC Trotter\", \"L. d. Taylor naive\", \"L. d. Tay. on-the-fly\", \"Linear T\", \"Sparsity low-rank\", \n",
    "        \"Interaction picture\"]\n",
    "print(df.index)\n",
    "df.index = labels\n",
    "#df.index.name = 'Methods'\n",
    "df"
   ]
  },
  {
   "cell_type": "code",
   "execution_count": 46,
   "metadata": {},
   "outputs": [
    {
     "name": "stdout",
     "output_type": "stream",
     "text": [
      "\\begin{table}\n",
      "\\centering\n",
      "\\caption{T-gate cost estimates for different molecules and methods obtained using our library}\n",
      "\\label{tab:costs}\n",
      "\\begin{tabular}{|l|p{1.45cm}|p{1.45cm}|p{1.45cm}|p{1.45cm}|p{1.45cm}|p{1.45cm}|p{1.45cm}|p{1.45cm}|}\n",
      "\\toprule\n",
      "{} &   H$_2$ &      HF &  H$_2$O &  NH$_3$ &  CH$_4$ &   O$_2$ &  CO$_2$ &    NaCl \\\\\n",
      "\\midrule\n",
      "qDRIFT                & 6.1e+16 & 1.2e+19 & 1.4e+19 & 2.4e+19 & 4.0e+19 & 4.8e+19 & 2.3e+20 & 4.0e+20 \\\\\n",
      "Rand. Hamilt.         & 3.0e+17 & 5.3e+22 & 2.4e+23 & 1.4e+24 & 2.0e+24 & 2.4e+23 & 1.6e+25 & 7.2e+26 \\\\\n",
      "Taylor naive          & 4.2e+13 & 1.8e+17 & 2.0e+17 & 2.7e+17 & 6.2e+18 & 7.0e+18 & 1.5e+19 & 2.0e+19 \\\\\n",
      "Taylor on-the-fly     & 2.2e+27 & 9.4e+29 & 1.4e+30 & 5.3e+29 & 1.1e+31 & 7.1e+31 & 4.7e+33 & 7.7e+33 \\\\\n",
      "Config. interaction   & 4.7e+36 & 2.4e+39 & 2.8e+39 & 3.9e+38 & 1.0e+40 & 8.3e+40 & 2.5e+43 & 4.3e+46 \\\\\n",
      "Low depth Trotter     & 7.0e+22 & 7.7e+25 & 6.6e+25 & 3.0e+25 & 4.9e+25 & 2.6e+26 & 5.0e+26 & 4.2e+27 \\\\\n",
      "SHC Trotter           & 1.4e+22 & 2.1e+25 & 2.4e+25 & 1.5e+25 & 2.5e+25 & 1.2e+26 & 4.4e+26 & 1.8e+27 \\\\\n",
      "L. d. Taylor naive    & 2.2e+15 & 5.4e+16 & 6.1e+16 & 3.4e+16 & 5.3e+16 & 8.4e+16 & 1.3e+17 & 3.3e+17 \\\\\n",
      "L. d. Tay. on-the-fly & 8.7e+22 & 1.8e+25 & 3.2e+25 & 2.5e+25 & 5.5e+25 & 7.5e+25 & 3.6e+26 & 5.8e+26 \\\\\n",
      "Linear T              & 2.7e+13 & 7.2e+14 & 7.9e+14 & 4.4e+14 & 7.2e+14 & 1.1e+15 & 1.8e+15 & 4.3e+15 \\\\\n",
      "Sparsity low-rank     & 8.7e+09 & 3.2e+11 & 4.1e+11 & 7.0e+11 & 1.3e+12 & 1.1e+12 & 4.4e+12 & 3.6e+12 \\\\\n",
      "Interaction picture   & 6.6e+17 & 2.5e+19 & 2.2e+19 & 1.1e+19 & 1.7e+19 & 2.9e+19 & 3.7e+19 & 1.5e+20 \\\\\n",
      "\\bottomrule\n",
      "\\end{tabular}\n",
      "\\end{table}\n",
      "\n"
     ]
    }
   ],
   "source": [
    "df.columns = [r'H$_2$', 'HF', r'H$_2$O', r'NH$_3$', r'CH$_4$', r'O$_2$', r'CO$_2$', 'NaCl']\n",
    "latex_code = df.to_latex(caption='T-gate cost estimates for different molecules and methods obtained using our library', \n",
    "                label= 'tab:costs', escape=False, column_format = '|l'+'|p{1.45cm}'*8+'|')\n",
    "#latex_code = latex_code.replace(\"\\\\\\n\", \"\\\\ \\hline\\n\")\n",
    "print(latex_code)"
   ]
  },
  {
   "cell_type": "code",
   "execution_count": 47,
   "metadata": {},
   "outputs": [
    {
     "data": {
      "text/plain": [
       "\"\\nnorm_factors = {}\\nfor col in df.columns:\\n    div = 10**int(np.log10(df[col]['hydrofluoric acid']))\\n    norm_factors[col] = div\\n    #df[str(col) + '_normal'] = df[col]/div\\n\\ndata = [df[col] for col in df.columns if '_normal' in str(col)]\\nheaders = [col[:-7] for col in df.columns if '_normal' in str(col)]\\nprint(headers)\\ndf_normal = pd.concat(data, axis=1, keys=headers)\\ndf_normal\""
      ]
     },
     "execution_count": 47,
     "metadata": {},
     "output_type": "execute_result"
    }
   ],
   "source": [
    "'''\n",
    "norm_factors = {}\n",
    "for col in df.columns:\n",
    "    div = 10**int(np.log10(df[col]['hydrofluoric acid']))\n",
    "    norm_factors[col] = div\n",
    "    #df[str(col) + '_normal'] = df[col]/div\n",
    "\n",
    "data = [df[col] for col in df.columns if '_normal' in str(col)]\n",
    "headers = [col[:-7] for col in df.columns if '_normal' in str(col)]\n",
    "print(headers)\n",
    "df_normal = pd.concat(data, axis=1, keys=headers)\n",
    "df_normal'''"
   ]
  },
  {
   "cell_type": "code",
   "execution_count": 48,
   "metadata": {},
   "outputs": [
    {
     "data": {
      "text/plain": [
       "Index(['H$_2$', 'HF', 'H$_2$O', 'NH$_3$', 'CH$_4$', 'O$_2$', 'CO$_2$', 'NaCl'], dtype='object')"
      ]
     },
     "execution_count": 48,
     "metadata": {},
     "output_type": "execute_result"
    }
   ],
   "source": [
    "df.columns"
   ]
  },
  {
   "cell_type": "code",
   "execution_count": 49,
   "metadata": {},
   "outputs": [
    {
     "data": {
      "image/png": "[encoded data removed]",
      "text/plain": [
       "<Figure size 432x288 with 1 Axes>"
      ]
     },
     "metadata": {
      "needs_background": "light"
     },
     "output_type": "display_data"
    }
   ],
   "source": [
    "import matplotlib.pyplot as plt\n",
    "fig, ax = plt.subplots()\n",
    "\n",
    "#plt.xlabel(\"Molecule\")\n",
    "plt.ylabel(\"T-gate cost\")\n",
    "plt.yscale('log')\n",
    "plt.xticks(ticks = range(len(labels)), labels = labels, rotation=90)\n",
    "#plt.legend(loc='upper left')\n",
    "\n",
    "# Function add a legend  \n",
    "#plt.legend(list(df.columns), loc='upper left')\n",
    "\n",
    "for col,color in zip(df.columns, ['gray','brown','m','red','darkorange', 'green','blue', 'black']):\n",
    "    ax.scatter(df.index, df[col], label = col,facecolors=\"None\", edgecolors=color, linewidth = 1)\n",
    "\n",
    "ax.legend(bbox_to_anchor=(1, 1))\n",
    "\n",
    "plt.savefig('results/cost_plot.pdf', format='pdf', bbox_inches='tight')\n",
    "plt.show()"
   ]
  },
  {
   "cell_type": "code",
   "execution_count": 50,
   "metadata": {},
   "outputs": [
    {
     "data": {
      "text/plain": [
       "Index(['qDRIFT', 'Rand. Hamilt.', 'Taylor naive', 'Taylor on-the-fly',\n",
       "       'Config. interaction', 'Low depth Trotter', 'SHC Trotter',\n",
       "       'L. d. Taylor naive', 'L. d. Tay. on-the-fly', 'Linear T',\n",
       "       'Sparsity low-rank', 'Interaction picture'],\n",
       "      dtype='object')"
      ]
     },
     "execution_count": 50,
     "metadata": {},
     "output_type": "execute_result"
    }
   ],
   "source": [
    "df2 = df.T\n",
    "df2.columns"
   ]
  },
  {
   "cell_type": "code",
   "execution_count": 51,
   "metadata": {},
   "outputs": [],
   "source": [
    "df2 = df2[['Taylor naive', 'Taylor on-the-fly', 'L. d. Taylor naive', 'L. d. Tay. on-the-fly']].copy()\n"
   ]
  },
  {
   "cell_type": "code",
   "execution_count": 52,
   "metadata": {},
   "outputs": [
    {
     "data": {
      "text/plain": [
       "Index(['H$_2$', 'HF', 'H$_2$O', 'NH$_3$', 'CH$_4$', 'O$_2$', 'CO$_2$', 'NaCl'], dtype='object')"
      ]
     },
     "execution_count": 52,
     "metadata": {},
     "output_type": "execute_result"
    }
   ],
   "source": [
    "df2.index"
   ]
  },
  {
   "cell_type": "code",
   "execution_count": 53,
   "metadata": {},
   "outputs": [
    {
     "data": {
      "image/png": "[encoded data removed]",
      "text/plain": [
       "<Figure size 504x504 with 2 Axes>"
      ]
     },
     "metadata": {
      "needs_background": "light"
     },
     "output_type": "display_data"
    }
   ],
   "source": [
    "fig, (ax2, ax1) = plt.subplots(2, 1, sharex=True,figsize=(7,7))\n",
    "ax1.scatter(df2.index, df2['Taylor naive'], c = 'blue', label = 'Gaussian')\n",
    "ax1.scatter(df2.index, df2['L. d. Taylor naive'], c = 'red', label = 'Plane waves')\n",
    "ax1.set_title('Taylor naive algorithm')\n",
    "ax1.set_yscale('log')\n",
    "ax1.set_ylabel('T-gate cost')\n",
    "ax1.legend(bbox_to_anchor=(0.28, 1))\n",
    "\n",
    "ax2.scatter(df2.index, df2['Taylor on-the-fly'], c = 'blue', label = 'Gaussian')\n",
    "ax2.scatter(df2.index, df2['L. d. Tay. on-the-fly'], c = 'red', label = 'Plane waves')\n",
    "ax2.set_title('Taylor on-the-fly algorithm')\n",
    "ax2.legend(bbox_to_anchor=(0.28, 1))\n",
    "ax2.set_yscale('log')\n",
    "ax2.set_ylabel('T-gate cost')\n",
    "\n",
    "plt.savefig('results/gaussian_vs_plane.pdf', format='pdf', bbox_inches='tight')\n",
    "plt.show()"
   ]
  },
  {
   "cell_type": "markdown",
   "metadata": {},
   "source": [
    "For the results with 160 basis functions"
   ]
  },
  {
   "cell_type": "code",
   "execution_count": 60,
   "metadata": {},
   "outputs": [
    {
     "data": {
      "text/html": [
       "<div>\n",
       "<style scoped>\n",
       "    .dataframe tbody tr th:only-of-type {\n",
       "        vertical-align: middle;\n",
       "    }\n",
       "\n",
       "    .dataframe tbody tr th {\n",
       "        vertical-align: top;\n",
       "    }\n",
       "\n",
       "    .dataframe thead th {\n",
       "        text-align: right;\n",
       "    }\n",
       "</style>\n",
       "<table border=\"1\" class=\"dataframe\">\n",
       "  <thead>\n",
       "    <tr style=\"text-align: right;\">\n",
       "      <th></th>\n",
       "      <th>h2</th>\n",
       "      <th>hydrofluoric acid</th>\n",
       "      <th>water</th>\n",
       "      <th>ammonia</th>\n",
       "      <th>methane</th>\n",
       "      <th>O2</th>\n",
       "    </tr>\n",
       "  </thead>\n",
       "  <tbody>\n",
       "    <tr>\n",
       "      <th>Taylor naive</th>\n",
       "      <td>4.1e+13</td>\n",
       "      <td>1.8e+17</td>\n",
       "      <td>2.0e+17</td>\n",
       "      <td>2.7e+17</td>\n",
       "      <td>6.2e+18</td>\n",
       "      <td>7.1e+18</td>\n",
       "    </tr>\n",
       "    <tr>\n",
       "      <th>Taylor on-the-fly</th>\n",
       "      <td>5.5e+27</td>\n",
       "      <td>1.7e+29</td>\n",
       "      <td>1.3e+30</td>\n",
       "      <td>6.6e+29</td>\n",
       "      <td>4.2e+31</td>\n",
       "      <td>7.1e+29</td>\n",
       "    </tr>\n",
       "    <tr>\n",
       "      <th>L. d. Taylor naive</th>\n",
       "      <td>9.9e+15</td>\n",
       "      <td>1.7e+17</td>\n",
       "      <td>1.7e+17</td>\n",
       "      <td>1.6e+17</td>\n",
       "      <td>2.5e+17</td>\n",
       "      <td>3.8e+17</td>\n",
       "    </tr>\n",
       "    <tr>\n",
       "      <th>L. d. Tay. on-the-fly</th>\n",
       "      <td>6.0e+23</td>\n",
       "      <td>7.1e+25</td>\n",
       "      <td>1.1e+26</td>\n",
       "      <td>1.7e+26</td>\n",
       "      <td>3.1e+26</td>\n",
       "      <td>4.3e+26</td>\n",
       "    </tr>\n",
       "  </tbody>\n",
       "</table>\n",
       "</div>"
      ],
      "text/plain": [
       "                           h2  hydrofluoric acid   water  ammonia  methane  \\\n",
       "Taylor naive          4.1e+13            1.8e+17 2.0e+17  2.7e+17  6.2e+18   \n",
       "Taylor on-the-fly     5.5e+27            1.7e+29 1.3e+30  6.6e+29  4.2e+31   \n",
       "L. d. Taylor naive    9.9e+15            1.7e+17 1.7e+17  1.6e+17  2.5e+17   \n",
       "L. d. Tay. on-the-fly 6.0e+23            7.1e+25 1.1e+26  1.7e+26  3.1e+26   \n",
       "\n",
       "                           O2  \n",
       "Taylor naive          7.1e+18  \n",
       "Taylor on-the-fly     7.1e+29  \n",
       "L. d. Taylor naive    3.8e+17  \n",
       "L. d. Tay. on-the-fly 4.3e+26  "
      ]
     },
     "execution_count": 60,
     "metadata": {},
     "output_type": "execute_result"
    }
   ],
   "source": [
    "df_160 = pd.read_csv('results/results_160.csv', delimiter  = ',', index_col = 'Methods')\n",
    "labels160 = ['Taylor naive', 'Taylor on-the-fly', 'L. d. Taylor naive', 'L. d. Tay. on-the-fly']\n",
    "df_160.index = labels160\n",
    "df_160"
   ]
  },
  {
   "cell_type": "code",
   "execution_count": 63,
   "metadata": {},
   "outputs": [
    {
     "data": {
      "text/html": [
       "<div>\n",
       "<style scoped>\n",
       "    .dataframe tbody tr th:only-of-type {\n",
       "        vertical-align: middle;\n",
       "    }\n",
       "\n",
       "    .dataframe tbody tr th {\n",
       "        vertical-align: top;\n",
       "    }\n",
       "\n",
       "    .dataframe thead th {\n",
       "        text-align: right;\n",
       "    }\n",
       "</style>\n",
       "<table border=\"1\" class=\"dataframe\">\n",
       "  <thead>\n",
       "    <tr style=\"text-align: right;\">\n",
       "      <th></th>\n",
       "      <th>Taylor naive</th>\n",
       "      <th>Taylor on-the-fly</th>\n",
       "      <th>L. d. Taylor naive</th>\n",
       "      <th>L. d. Tay. on-the-fly</th>\n",
       "    </tr>\n",
       "  </thead>\n",
       "  <tbody>\n",
       "    <tr>\n",
       "      <th>h2</th>\n",
       "      <td>4.1e+13</td>\n",
       "      <td>5.5e+27</td>\n",
       "      <td>9.9e+15</td>\n",
       "      <td>6.0e+23</td>\n",
       "    </tr>\n",
       "    <tr>\n",
       "      <th>hydrofluoric acid</th>\n",
       "      <td>1.8e+17</td>\n",
       "      <td>1.7e+29</td>\n",
       "      <td>1.7e+17</td>\n",
       "      <td>7.1e+25</td>\n",
       "    </tr>\n",
       "    <tr>\n",
       "      <th>water</th>\n",
       "      <td>2.0e+17</td>\n",
       "      <td>1.3e+30</td>\n",
       "      <td>1.7e+17</td>\n",
       "      <td>1.1e+26</td>\n",
       "    </tr>\n",
       "    <tr>\n",
       "      <th>ammonia</th>\n",
       "      <td>2.7e+17</td>\n",
       "      <td>6.6e+29</td>\n",
       "      <td>1.6e+17</td>\n",
       "      <td>1.7e+26</td>\n",
       "    </tr>\n",
       "    <tr>\n",
       "      <th>methane</th>\n",
       "      <td>6.2e+18</td>\n",
       "      <td>4.2e+31</td>\n",
       "      <td>2.5e+17</td>\n",
       "      <td>3.1e+26</td>\n",
       "    </tr>\n",
       "    <tr>\n",
       "      <th>O2</th>\n",
       "      <td>7.1e+18</td>\n",
       "      <td>7.1e+29</td>\n",
       "      <td>3.8e+17</td>\n",
       "      <td>4.3e+26</td>\n",
       "    </tr>\n",
       "  </tbody>\n",
       "</table>\n",
       "</div>"
      ],
      "text/plain": [
       "                   Taylor naive  Taylor on-the-fly  L. d. Taylor naive  \\\n",
       "h2                      4.1e+13            5.5e+27             9.9e+15   \n",
       "hydrofluoric acid       1.8e+17            1.7e+29             1.7e+17   \n",
       "water                   2.0e+17            1.3e+30             1.7e+17   \n",
       "ammonia                 2.7e+17            6.6e+29             1.6e+17   \n",
       "methane                 6.2e+18            4.2e+31             2.5e+17   \n",
       "O2                      7.1e+18            7.1e+29             3.8e+17   \n",
       "\n",
       "                   L. d. Tay. on-the-fly  \n",
       "h2                               6.0e+23  \n",
       "hydrofluoric acid                7.1e+25  \n",
       "water                            1.1e+26  \n",
       "ammonia                          1.7e+26  \n",
       "methane                          3.1e+26  \n",
       "O2                               4.3e+26  "
      ]
     },
     "execution_count": 63,
     "metadata": {},
     "output_type": "execute_result"
    }
   ],
   "source": [
    "df2_160 = df_160.T\n",
    "df2_160"
   ]
  },
  {
   "cell_type": "code",
   "execution_count": 66,
   "metadata": {},
   "outputs": [],
   "source": [
    "fig, (ax2, ax1) = plt.subplots(2, 1, sharex=True,figsize=(7,7))\n",
    "ax1.scatter(df2.index, df2['Taylor naive'], c = 'blue', label = 'Gaussian')\n",
    "ax1.scatter(df2.index, df2['L. d. Taylor naive'], c = 'red', label = 'Plane waves (x100)')\n",
    "ax1.scatter(df2.index[:len(df2_160.index)], df2_160['L. d. Taylor naive'], c = 'green', label = 'Plane waves (x160)')\n",
    "ax1.set_title('Taylor naive algorithm')\n",
    "ax1.set_yscale('log')\n",
    "ax1.set_ylabel('T-gate cost')\n",
    "ax1.legend(bbox_to_anchor=(0.38, 1))\n",
    "\n",
    "ax2.scatter(df2.index, df2['Taylor on-the-fly'], c = 'blue', label = 'Gaussian')\n",
    "ax2.scatter(df2.index, df2['L. d. Tay. on-the-fly'], c = 'red', label = 'Plane waves (x100)')\n",
    "ax2.scatter(df2.index[:len(df2_160.index)], df2_160['L. d. Tay. on-the-fly'], c = 'green', label = 'Plane waves (x160)')\n",
    "ax2.set_title('Taylor on-the-fly algorithm')\n",
    "ax2.legend(bbox_to_anchor=(0.38, 1))\n",
    "ax2.set_yscale('log')\n",
    "ax2.set_ylabel('T-gate cost')\n",
    "\n",
    "plt.savefig('results/gaussian_vs_plane.pdf', format='pdf', bbox_inches='tight')\n",
    "plt.show()"
   ]
  },
  {
   "cell_type": "code",
   "execution_count": null,
   "metadata": {},
   "outputs": [],
   "source": []
  }
 ],
 "metadata": {
  "interpreter": {
   "hash": "17176de679f8140ba45dd72324e6c9e95c7f4108addec9e9c9cae8674d5b9c58"
  },
  "kernelspec": {
   "display_name": "Python 3.6.12 64-bit ('openfermion': conda)",
   "name": "python3"
  },
  "language_info": {
   "codemirror_mode": {
    "name": "ipython",
    "version": 3
   },
   "file_extension": ".py",
   "mimetype": "text/x-python",
   "name": "python",
   "nbconvert_exporter": "python",
   "pygments_lexer": "ipython3",
   "version": "3.6.12"
  },
  "orig_nbformat": 4
 },
 "nbformat": 4,
 "nbformat_minor": 2
}
