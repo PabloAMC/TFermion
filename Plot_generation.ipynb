{
 "cells": [
  {
   "cell_type": "markdown",
   "source": [
    "# Plot generation"
   ],
   "metadata": {}
  },
  {
   "cell_type": "markdown",
   "source": [
    "This notebook reads the result files and generates plots. "
   ],
   "metadata": {}
  },
  {
   "cell_type": "code",
   "execution_count": 77,
   "source": [
    "import pandas as pd\n",
    "import numpy as np\n",
    "\n",
    "pd.set_option('display.float_format', lambda x: \"{:0.2e}\".format(x))"
   ],
   "outputs": [],
   "metadata": {}
  },
  {
   "cell_type": "code",
   "execution_count": 78,
   "source": [
    "df = pd.read_csv('results/results.csv', delimiter  = ',', index_col = 'Methods')"
   ],
   "outputs": [],
   "metadata": {}
  },
  {
   "cell_type": "code",
   "execution_count": 79,
   "source": [
    "labels = ['qDRIFT', 'Rand. Hamilt.', \"Taylor naive\", \"Taylor on-the-fly\", \"Config. interaction\",\n",
    "        \"Low depth Trotter\", \"L. d. Taylor naive\", \"L. d. Tay. on-the-fly\", \"Linear T\", \"Sparsity low-rank\", \n",
    "        \"Interaction picture\"]\n",
    "print(df.index)\n",
    "df.index = labels\n",
    "#df.index.name = 'Methods'\n",
    "df"
   ],
   "outputs": [
    {
     "output_type": "stream",
     "name": "stdout",
     "text": [
      "Index(['qdrift', 'rand_ham', 'taylor_naive', 'taylor_on_the_fly',\n",
      "       'configuration_interaction', 'low_depth_trotter', 'low_depth_taylor',\n",
      "       'low_depth_taylor_on_the_fly', 'linear_t', 'sparsity_low_rank',\n",
      "       'interaction_picture'],\n",
      "      dtype='object', name='Methods')\n"
     ]
    },
    {
     "output_type": "execute_result",
     "data": {
      "text/html": [
       "<div>\n",
       "<style scoped>\n",
       "    .dataframe tbody tr th:only-of-type {\n",
       "        vertical-align: middle;\n",
       "    }\n",
       "\n",
       "    .dataframe tbody tr th {\n",
       "        vertical-align: top;\n",
       "    }\n",
       "\n",
       "    .dataframe thead th {\n",
       "        text-align: right;\n",
       "    }\n",
       "</style>\n",
       "<table border=\"1\" class=\"dataframe\">\n",
       "  <thead>\n",
       "    <tr style=\"text-align: right;\">\n",
       "      <th></th>\n",
       "      <th>hydrofluoric acid</th>\n",
       "      <th>water</th>\n",
       "      <th>ammonia</th>\n",
       "      <th>methane</th>\n",
       "      <th>O2</th>\n",
       "    </tr>\n",
       "  </thead>\n",
       "  <tbody>\n",
       "    <tr>\n",
       "      <th>qDRIFT</th>\n",
       "      <td>1.30e+24</td>\n",
       "      <td>1.53e+24</td>\n",
       "      <td>2.75e+24</td>\n",
       "      <td>4.36e+24</td>\n",
       "      <td>5.46e+24</td>\n",
       "    </tr>\n",
       "    <tr>\n",
       "      <th>Rand. Hamilt.</th>\n",
       "      <td>3.05e+24</td>\n",
       "      <td>1.39e+25</td>\n",
       "      <td>8.44e+25</td>\n",
       "      <td>1.15e+26</td>\n",
       "      <td>1.46e+25</td>\n",
       "    </tr>\n",
       "    <tr>\n",
       "      <th>Taylor naive</th>\n",
       "      <td>1.18e+17</td>\n",
       "      <td>1.29e+17</td>\n",
       "      <td>1.69e+17</td>\n",
       "      <td>3.75e+18</td>\n",
       "      <td>4.18e+18</td>\n",
       "    </tr>\n",
       "    <tr>\n",
       "      <th>Taylor on-the-fly</th>\n",
       "      <td>4.36e+19</td>\n",
       "      <td>5.80e+19</td>\n",
       "      <td>7.80e+19</td>\n",
       "      <td>1.35e+20</td>\n",
       "      <td>2.17e+20</td>\n",
       "    </tr>\n",
       "    <tr>\n",
       "      <th>Config. interaction</th>\n",
       "      <td>1.32e+39</td>\n",
       "      <td>3.42e+40</td>\n",
       "      <td>2.67e+40</td>\n",
       "      <td>7.45e+40</td>\n",
       "      <td>6.09e+39</td>\n",
       "    </tr>\n",
       "    <tr>\n",
       "      <th>Low depth Trotter</th>\n",
       "      <td>2.01e+26</td>\n",
       "      <td>1.74e+26</td>\n",
       "      <td>7.82e+25</td>\n",
       "      <td>1.27e+26</td>\n",
       "      <td>6.77e+26</td>\n",
       "    </tr>\n",
       "    <tr>\n",
       "      <th>L. d. Taylor naive</th>\n",
       "      <td>1.33e+13</td>\n",
       "      <td>1.01e+13</td>\n",
       "      <td>5.30e+12</td>\n",
       "      <td>6.75e+12</td>\n",
       "      <td>1.17e+13</td>\n",
       "    </tr>\n",
       "    <tr>\n",
       "      <th>L. d. Tay. on-the-fly</th>\n",
       "      <td>2.23e+26</td>\n",
       "      <td>3.72e+26</td>\n",
       "      <td>3.03e+26</td>\n",
       "      <td>6.77e+26</td>\n",
       "      <td>8.84e+26</td>\n",
       "    </tr>\n",
       "    <tr>\n",
       "      <th>Linear T</th>\n",
       "      <td>4.58e+15</td>\n",
       "      <td>5.36e+15</td>\n",
       "      <td>2.96e+15</td>\n",
       "      <td>4.67e+15</td>\n",
       "      <td>7.44e+15</td>\n",
       "    </tr>\n",
       "    <tr>\n",
       "      <th>Sparsity low-rank</th>\n",
       "      <td>2.07e+12</td>\n",
       "      <td>3.31e+12</td>\n",
       "      <td>5.86e+12</td>\n",
       "      <td>1.26e+13</td>\n",
       "      <td>1.05e+13</td>\n",
       "    </tr>\n",
       "    <tr>\n",
       "      <th>Interaction picture</th>\n",
       "      <td>1.04e+20</td>\n",
       "      <td>9.40e+19</td>\n",
       "      <td>4.57e+19</td>\n",
       "      <td>7.04e+19</td>\n",
       "      <td>1.25e+20</td>\n",
       "    </tr>\n",
       "  </tbody>\n",
       "</table>\n",
       "</div>"
      ],
      "text/plain": [
       "                       hydrofluoric acid    water  ammonia  methane       O2\n",
       "qDRIFT                          1.30e+24 1.53e+24 2.75e+24 4.36e+24 5.46e+24\n",
       "Rand. Hamilt.                   3.05e+24 1.39e+25 8.44e+25 1.15e+26 1.46e+25\n",
       "Taylor naive                    1.18e+17 1.29e+17 1.69e+17 3.75e+18 4.18e+18\n",
       "Taylor on-the-fly               4.36e+19 5.80e+19 7.80e+19 1.35e+20 2.17e+20\n",
       "Config. interaction             1.32e+39 3.42e+40 2.67e+40 7.45e+40 6.09e+39\n",
       "Low depth Trotter               2.01e+26 1.74e+26 7.82e+25 1.27e+26 6.77e+26\n",
       "L. d. Taylor naive              1.33e+13 1.01e+13 5.30e+12 6.75e+12 1.17e+13\n",
       "L. d. Tay. on-the-fly           2.23e+26 3.72e+26 3.03e+26 6.77e+26 8.84e+26\n",
       "Linear T                        4.58e+15 5.36e+15 2.96e+15 4.67e+15 7.44e+15\n",
       "Sparsity low-rank               2.07e+12 3.31e+12 5.86e+12 1.26e+13 1.05e+13\n",
       "Interaction picture             1.04e+20 9.40e+19 4.57e+19 7.04e+19 1.25e+20"
      ]
     },
     "metadata": {},
     "execution_count": 79
    }
   ],
   "metadata": {}
  },
  {
   "cell_type": "code",
   "execution_count": 87,
   "source": [
    "df.columns = ['HF', r'H$_2$O', r'NH$_3$', r'CH$_4$', r'O$_2$']\n",
    "latex_code = df.to_latex(caption='T-gate cost estimates for different molecules and methods obtained using our library', \n",
    "                label= 'tab:costs', escape=False, column_format = 'l'+'|p{2cm}'*5)\n",
    "#latex_code = latex_code.replace(\"\\\\\\n\", \"\\\\ \\hline\\n\")\n",
    "print(latex_code)"
   ],
   "outputs": [
    {
     "output_type": "stream",
     "name": "stdout",
     "text": [
      "\\begin{table}\n",
      "\\centering\n",
      "\\caption{Estimates for different molecules and methods obtained using our library}\n",
      "\\label{tab:costs}\n",
      "\\begin{tabular}{l|p{2cm}|p{2cm}|p{2cm}|p{2cm}|p{2cm}}\n",
      "\\toprule\n",
      "{} &       HF &   H$_2$O &   NH$_3$ &   CH$_4$ &    O$_2$ \\\\\n",
      "\\midrule\n",
      "qDRIFT                & 1.30e+24 & 1.53e+24 & 2.75e+24 & 4.36e+24 & 5.46e+24 \\\\\n",
      "Rand. Hamilt.         & 3.05e+24 & 1.39e+25 & 8.44e+25 & 1.15e+26 & 1.46e+25 \\\\\n",
      "Taylor naive          & 1.18e+17 & 1.29e+17 & 1.69e+17 & 3.75e+18 & 4.18e+18 \\\\\n",
      "Taylor on-the-fly     & 4.36e+19 & 5.80e+19 & 7.80e+19 & 1.35e+20 & 2.17e+20 \\\\\n",
      "Config. interaction   & 1.32e+39 & 3.42e+40 & 2.67e+40 & 7.45e+40 & 6.09e+39 \\\\\n",
      "Low depth Trotter     & 2.01e+26 & 1.74e+26 & 7.82e+25 & 1.27e+26 & 6.77e+26 \\\\\n",
      "L. d. Taylor naive    & 1.33e+13 & 1.01e+13 & 5.30e+12 & 6.75e+12 & 1.17e+13 \\\\\n",
      "L. d. Tay. on-the-fly & 2.23e+26 & 3.72e+26 & 3.03e+26 & 6.77e+26 & 8.84e+26 \\\\\n",
      "Linear T              & 4.58e+15 & 5.36e+15 & 2.96e+15 & 4.67e+15 & 7.44e+15 \\\\\n",
      "Sparsity low-rank     & 2.07e+12 & 3.31e+12 & 5.86e+12 & 1.26e+13 & 1.05e+13 \\\\\n",
      "Interaction picture   & 1.04e+20 & 9.40e+19 & 4.57e+19 & 7.04e+19 & 1.25e+20 \\\\\n",
      "\\bottomrule\n",
      "\\end{tabular}\n",
      "\\end{table}\n",
      "\n"
     ]
    }
   ],
   "metadata": {}
  },
  {
   "cell_type": "code",
   "execution_count": 81,
   "source": [
    "'''\n",
    "norm_factors = {}\n",
    "for col in df.columns:\n",
    "    div = 10**int(np.log10(df[col]['hydrofluoric acid']))\n",
    "    norm_factors[col] = div\n",
    "    #df[str(col) + '_normal'] = df[col]/div\n",
    "\n",
    "data = [df[col] for col in df.columns if '_normal' in str(col)]\n",
    "headers = [col[:-7] for col in df.columns if '_normal' in str(col)]\n",
    "print(headers)\n",
    "df_normal = pd.concat(data, axis=1, keys=headers)\n",
    "df_normal'''"
   ],
   "outputs": [
    {
     "output_type": "execute_result",
     "data": {
      "text/plain": [
       "\"\\nnorm_factors = {}\\nfor col in df.columns:\\n    div = 10**int(np.log10(df[col]['hydrofluoric acid']))\\n    norm_factors[col] = div\\n    #df[str(col) + '_normal'] = df[col]/div\\n\\ndata = [df[col] for col in df.columns if '_normal' in str(col)]\\nheaders = [col[:-7] for col in df.columns if '_normal' in str(col)]\\nprint(headers)\\ndf_normal = pd.concat(data, axis=1, keys=headers)\\ndf_normal\""
      ]
     },
     "metadata": {},
     "execution_count": 81
    }
   ],
   "metadata": {}
  },
  {
   "cell_type": "code",
   "execution_count": 82,
   "source": [
    "df.columns"
   ],
   "outputs": [
    {
     "output_type": "execute_result",
     "data": {
      "text/plain": [
       "Index(['HF', 'H$_2$O', 'NH$_3$', 'CH$_4$', 'O$_2$'], dtype='object')"
      ]
     },
     "metadata": {},
     "execution_count": 82
    }
   ],
   "metadata": {}
  },
  {
   "cell_type": "code",
   "execution_count": 83,
   "source": [
    "import matplotlib.pyplot as plt\n",
    "fig, ax = plt.subplots()\n",
    "\n",
    "#plt.xlabel(\"Molecule\")\n",
    "plt.ylabel(\"T-gate cost\")\n",
    "plt.yscale('log')\n",
    "plt.xticks(ticks = range(len(labels)), labels = labels, rotation=65)\n",
    "#plt.legend(loc='upper left')\n",
    "\n",
    "# Function add a legend  \n",
    "#plt.legend(list(df.columns), loc='upper left')\n",
    "\n",
    "for col in df.columns:\n",
    "    ax.scatter(df.index, df[col], label = col)\n",
    "\n",
    "ax.legend(bbox_to_anchor=(1, 1))\n",
    "\n",
    "plt.savefig('results/cost_plot.pdf', format='pdf', bbox_inches='tight')\n",
    "plt.show()"
   ],
   "outputs": [
    {
     "output_type": "display_data",
     "data": {
      "image/png": "[encoded data removed]",
      "text/plain": [
       "<Figure size 432x288 with 1 Axes>"
      ]
     },
     "metadata": {
      "needs_background": "light"
     }
    }
   ],
   "metadata": {}
  },
  {
   "cell_type": "code",
   "execution_count": 84,
   "source": [
    "list(df.columns)"
   ],
   "outputs": [
    {
     "output_type": "execute_result",
     "data": {
      "text/plain": [
       "['HF', 'H$_2$O', 'NH$_3$', 'CH$_4$', 'O$_2$']"
      ]
     },
     "metadata": {},
     "execution_count": 84
    }
   ],
   "metadata": {}
  },
  {
   "cell_type": "code",
   "execution_count": null,
   "source": [],
   "outputs": [],
   "metadata": {}
  }
 ],
 "metadata": {
  "orig_nbformat": 4,
  "language_info": {
   "name": "python",
   "version": "3.6.12",
   "mimetype": "text/x-python",
   "codemirror_mode": {
    "name": "ipython",
    "version": 3
   },
   "pygments_lexer": "ipython3",
   "nbconvert_exporter": "python",
   "file_extension": ".py"
  },
  "kernelspec": {
   "name": "python3",
   "display_name": "Python 3.6.12 64-bit ('openfermion': conda)"
  },
  "interpreter": {
   "hash": "ed33cbcceba37f108acd11f1306306d444cb1609391dd5b4b7dd6182044a625a"
  }
 },
 "nbformat": 4,
 "nbformat_minor": 2
}