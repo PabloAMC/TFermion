{
 "cells": [
  {
   "cell_type": "markdown",
   "source": [
    "# Plot generation"
   ],
   "metadata": {}
  },
  {
   "cell_type": "markdown",
   "source": [
    "This notebook reads the result files and generates plots. "
   ],
   "metadata": {}
  },
  {
   "cell_type": "code",
   "execution_count": 1,
   "source": [
    "import pandas as pd\n",
    "import numpy as np\n",
    "\n",
    "pd.set_option('display.float_format', lambda x: \"{:0.1e}\".format(x))"
   ],
   "outputs": [],
   "metadata": {}
  },
  {
   "cell_type": "code",
   "execution_count": 2,
   "source": [
    "df = pd.read_csv('results/results.csv', delimiter  = ',', index_col = 'Methods')"
   ],
   "outputs": [],
   "metadata": {}
  },
  {
   "cell_type": "code",
   "execution_count": 3,
   "source": [
    "labels = ['qDRIFT', 'Rand. Hamilt.', \"Taylor naive\", \"Taylor on-the-fly\", \"Config. interaction\",\n",
    "        \"Low depth Trotter\", \"L. d. Taylor naive\", \"L. d. Tay. on-the-fly\", \"Linear T\", \"Sparsity low-rank\", \n",
    "        \"Interaction picture\"]\n",
    "print(df.index)\n",
    "df.index = labels\n",
    "#df.index.name = 'Methods'\n",
    "df"
   ],
   "outputs": [
    {
     "output_type": "stream",
     "name": "stdout",
     "text": [
      "Index(['qdrift', 'rand_ham', 'taylor_naive', 'taylor_on_the_fly',\n",
      "       'configuration_interaction', 'low_depth_trotter', 'low_depth_taylor',\n",
      "       'low_depth_taylor_on_the_fly', 'linear_t', 'sparsity_low_rank',\n",
      "       'interaction_picture'],\n",
      "      dtype='object', name='Methods')\n"
     ]
    },
    {
     "output_type": "execute_result",
     "data": {
      "text/html": [
       "<div>\n",
       "<style scoped>\n",
       "    .dataframe tbody tr th:only-of-type {\n",
       "        vertical-align: middle;\n",
       "    }\n",
       "\n",
       "    .dataframe tbody tr th {\n",
       "        vertical-align: top;\n",
       "    }\n",
       "\n",
       "    .dataframe thead th {\n",
       "        text-align: right;\n",
       "    }\n",
       "</style>\n",
       "<table border=\"1\" class=\"dataframe\">\n",
       "  <thead>\n",
       "    <tr style=\"text-align: right;\">\n",
       "      <th></th>\n",
       "      <th>h2</th>\n",
       "      <th>hydrofluoric acid</th>\n",
       "      <th>water</th>\n",
       "      <th>ammonia</th>\n",
       "      <th>methane</th>\n",
       "      <th>O2</th>\n",
       "      <th>CO2</th>\n",
       "      <th>NaCl</th>\n",
       "    </tr>\n",
       "  </thead>\n",
       "  <tbody>\n",
       "    <tr>\n",
       "      <th>qDRIFT</th>\n",
       "      <td>7.0e+21</td>\n",
       "      <td>1.3e+24</td>\n",
       "      <td>1.6e+24</td>\n",
       "      <td>2.7e+24</td>\n",
       "      <td>4.3e+24</td>\n",
       "      <td>5.5e+24</td>\n",
       "      <td>2.7e+25</td>\n",
       "      <td>4.4e+25</td>\n",
       "    </tr>\n",
       "    <tr>\n",
       "      <th>Rand. Hamilt.</th>\n",
       "      <td>1.8e+19</td>\n",
       "      <td>3.1e+24</td>\n",
       "      <td>1.4e+25</td>\n",
       "      <td>8.2e+25</td>\n",
       "      <td>1.1e+26</td>\n",
       "      <td>1.4e+25</td>\n",
       "      <td>9.1e+26</td>\n",
       "      <td>4.2e+28</td>\n",
       "    </tr>\n",
       "    <tr>\n",
       "      <th>Taylor naive</th>\n",
       "      <td>2.6e+13</td>\n",
       "      <td>1.2e+17</td>\n",
       "      <td>1.3e+17</td>\n",
       "      <td>1.7e+17</td>\n",
       "      <td>3.7e+18</td>\n",
       "      <td>4.3e+18</td>\n",
       "      <td>9.8e+18</td>\n",
       "      <td>1.3e+19</td>\n",
       "    </tr>\n",
       "    <tr>\n",
       "      <th>Taylor on-the-fly</th>\n",
       "      <td>1.2e+27</td>\n",
       "      <td>5.2e+29</td>\n",
       "      <td>8.4e+29</td>\n",
       "      <td>3.0e+29</td>\n",
       "      <td>6.1e+30</td>\n",
       "      <td>4.0e+31</td>\n",
       "      <td>2.8e+33</td>\n",
       "      <td>4.3e+33</td>\n",
       "    </tr>\n",
       "    <tr>\n",
       "      <th>Config. interaction</th>\n",
       "      <td>9.6e+35</td>\n",
       "      <td>1.1e+39</td>\n",
       "      <td>1.1e+39</td>\n",
       "      <td>1.5e+38</td>\n",
       "      <td>3.3e+39</td>\n",
       "      <td>4.7e+40</td>\n",
       "      <td>1.3e+43</td>\n",
       "      <td>1.4e+46</td>\n",
       "    </tr>\n",
       "    <tr>\n",
       "      <th>Low depth Trotter</th>\n",
       "      <td>2.6e+22</td>\n",
       "      <td>2.7e+25</td>\n",
       "      <td>2.3e+25</td>\n",
       "      <td>1.1e+25</td>\n",
       "      <td>1.8e+25</td>\n",
       "      <td>9.2e+25</td>\n",
       "      <td>1.7e+26</td>\n",
       "      <td>1.5e+27</td>\n",
       "    </tr>\n",
       "    <tr>\n",
       "      <th>L. d. Taylor naive</th>\n",
       "      <td>9.0e+11</td>\n",
       "      <td>7.1e+12</td>\n",
       "      <td>5.4e+12</td>\n",
       "      <td>2.8e+12</td>\n",
       "      <td>3.5e+12</td>\n",
       "      <td>6.1e+12</td>\n",
       "      <td>3.8e+12</td>\n",
       "      <td>1.7e+13</td>\n",
       "    </tr>\n",
       "    <tr>\n",
       "      <th>L. d. Tay. on-the-fly</th>\n",
       "      <td>1.2e+23</td>\n",
       "      <td>2.5e+25</td>\n",
       "      <td>4.2e+25</td>\n",
       "      <td>3.3e+25</td>\n",
       "      <td>7.6e+25</td>\n",
       "      <td>9.7e+25</td>\n",
       "      <td>4.6e+26</td>\n",
       "      <td>7.5e+26</td>\n",
       "    </tr>\n",
       "    <tr>\n",
       "      <th>Linear T</th>\n",
       "      <td>9.4e+13</td>\n",
       "      <td>2.5e+15</td>\n",
       "      <td>2.8e+15</td>\n",
       "      <td>1.5e+15</td>\n",
       "      <td>2.4e+15</td>\n",
       "      <td>3.9e+15</td>\n",
       "      <td>6.1e+15</td>\n",
       "      <td>1.5e+16</td>\n",
       "    </tr>\n",
       "    <tr>\n",
       "      <th>Sparsity low-rank</th>\n",
       "      <td>3.2e+10</td>\n",
       "      <td>1.4e+12</td>\n",
       "      <td>1.9e+12</td>\n",
       "      <td>3.4e+12</td>\n",
       "      <td>6.5e+12</td>\n",
       "      <td>5.4e+12</td>\n",
       "      <td>2.5e+13</td>\n",
       "      <td>1.9e+13</td>\n",
       "    </tr>\n",
       "    <tr>\n",
       "      <th>Interaction picture</th>\n",
       "      <td>1.3e+18</td>\n",
       "      <td>5.1e+19</td>\n",
       "      <td>4.5e+19</td>\n",
       "      <td>2.2e+19</td>\n",
       "      <td>3.2e+19</td>\n",
       "      <td>6.0e+19</td>\n",
       "      <td>7.3e+19</td>\n",
       "      <td>3.0e+20</td>\n",
       "    </tr>\n",
       "  </tbody>\n",
       "</table>\n",
       "</div>"
      ],
      "text/plain": [
       "                           h2  hydrofluoric acid   water  ammonia  methane  \\\n",
       "qDRIFT                7.0e+21            1.3e+24 1.6e+24  2.7e+24  4.3e+24   \n",
       "Rand. Hamilt.         1.8e+19            3.1e+24 1.4e+25  8.2e+25  1.1e+26   \n",
       "Taylor naive          2.6e+13            1.2e+17 1.3e+17  1.7e+17  3.7e+18   \n",
       "Taylor on-the-fly     1.2e+27            5.2e+29 8.4e+29  3.0e+29  6.1e+30   \n",
       "Config. interaction   9.6e+35            1.1e+39 1.1e+39  1.5e+38  3.3e+39   \n",
       "Low depth Trotter     2.6e+22            2.7e+25 2.3e+25  1.1e+25  1.8e+25   \n",
       "L. d. Taylor naive    9.0e+11            7.1e+12 5.4e+12  2.8e+12  3.5e+12   \n",
       "L. d. Tay. on-the-fly 1.2e+23            2.5e+25 4.2e+25  3.3e+25  7.6e+25   \n",
       "Linear T              9.4e+13            2.5e+15 2.8e+15  1.5e+15  2.4e+15   \n",
       "Sparsity low-rank     3.2e+10            1.4e+12 1.9e+12  3.4e+12  6.5e+12   \n",
       "Interaction picture   1.3e+18            5.1e+19 4.5e+19  2.2e+19  3.2e+19   \n",
       "\n",
       "                           O2     CO2    NaCl  \n",
       "qDRIFT                5.5e+24 2.7e+25 4.4e+25  \n",
       "Rand. Hamilt.         1.4e+25 9.1e+26 4.2e+28  \n",
       "Taylor naive          4.3e+18 9.8e+18 1.3e+19  \n",
       "Taylor on-the-fly     4.0e+31 2.8e+33 4.3e+33  \n",
       "Config. interaction   4.7e+40 1.3e+43 1.4e+46  \n",
       "Low depth Trotter     9.2e+25 1.7e+26 1.5e+27  \n",
       "L. d. Taylor naive    6.1e+12 3.8e+12 1.7e+13  \n",
       "L. d. Tay. on-the-fly 9.7e+25 4.6e+26 7.5e+26  \n",
       "Linear T              3.9e+15 6.1e+15 1.5e+16  \n",
       "Sparsity low-rank     5.4e+12 2.5e+13 1.9e+13  \n",
       "Interaction picture   6.0e+19 7.3e+19 3.0e+20  "
      ]
     },
     "metadata": {},
     "execution_count": 3
    }
   ],
   "metadata": {}
  },
  {
   "cell_type": "code",
   "execution_count": 4,
   "source": [
    "df.columns = [r'H$_2$', 'HF', r'H$_2$O', r'NH$_3$', r'CH$_4$', r'O$_2$', r'CO$_2$', 'NaCl']\n",
    "latex_code = df.to_latex(caption='T-gate cost estimates for different molecules and methods obtained using our library', \n",
    "                label= 'tab:costs', escape=False, column_format = '|l'+'|p{1.55cm}'*8+'|')\n",
    "#latex_code = latex_code.replace(\"\\\\\\n\", \"\\\\ \\hline\\n\")\n",
    "print(latex_code)"
   ],
   "outputs": [
    {
     "output_type": "stream",
     "name": "stdout",
     "text": [
      "\\begin{table}\n",
      "\\centering\n",
      "\\caption{T-gate cost estimates for different molecules and methods obtained using our library}\n",
      "\\label{tab:costs}\n",
      "\\begin{tabular}{|l|p{1.55cm}|p{1.55cm}|p{1.55cm}|p{1.55cm}|p{1.55cm}|p{1.55cm}|p{1.55cm}|p{1.55cm}|}\n",
      "\\toprule\n",
      "{} &   H$_2$ &      HF &  H$_2$O &  NH$_3$ &  CH$_4$ &   O$_2$ &  CO$_2$ &    NaCl \\\\\n",
      "\\midrule\n",
      "qDRIFT                & 7.0e+21 & 1.3e+24 & 1.6e+24 & 2.7e+24 & 4.3e+24 & 5.5e+24 & 2.7e+25 & 4.4e+25 \\\\\n",
      "Rand. Hamilt.         & 1.8e+19 & 3.1e+24 & 1.4e+25 & 8.2e+25 & 1.1e+26 & 1.4e+25 & 9.1e+26 & 4.2e+28 \\\\\n",
      "Taylor naive          & 2.6e+13 & 1.2e+17 & 1.3e+17 & 1.7e+17 & 3.7e+18 & 4.3e+18 & 9.8e+18 & 1.3e+19 \\\\\n",
      "Taylor on-the-fly     & 1.2e+27 & 5.2e+29 & 8.4e+29 & 3.0e+29 & 6.1e+30 & 4.0e+31 & 2.8e+33 & 4.3e+33 \\\\\n",
      "Config. interaction   & 9.6e+35 & 1.1e+39 & 1.1e+39 & 1.5e+38 & 3.3e+39 & 4.7e+40 & 1.3e+43 & 1.4e+46 \\\\\n",
      "Low depth Trotter     & 2.6e+22 & 2.7e+25 & 2.3e+25 & 1.1e+25 & 1.8e+25 & 9.2e+25 & 1.7e+26 & 1.5e+27 \\\\\n",
      "L. d. Taylor naive    & 9.0e+11 & 7.1e+12 & 5.4e+12 & 2.8e+12 & 3.5e+12 & 6.1e+12 & 3.8e+12 & 1.7e+13 \\\\\n",
      "L. d. Tay. on-the-fly & 1.2e+23 & 2.5e+25 & 4.2e+25 & 3.3e+25 & 7.6e+25 & 9.7e+25 & 4.6e+26 & 7.5e+26 \\\\\n",
      "Linear T              & 9.4e+13 & 2.5e+15 & 2.8e+15 & 1.5e+15 & 2.4e+15 & 3.9e+15 & 6.1e+15 & 1.5e+16 \\\\\n",
      "Sparsity low-rank     & 3.2e+10 & 1.4e+12 & 1.9e+12 & 3.4e+12 & 6.5e+12 & 5.4e+12 & 2.5e+13 & 1.9e+13 \\\\\n",
      "Interaction picture   & 1.3e+18 & 5.1e+19 & 4.5e+19 & 2.2e+19 & 3.2e+19 & 6.0e+19 & 7.3e+19 & 3.0e+20 \\\\\n",
      "\\bottomrule\n",
      "\\end{tabular}\n",
      "\\end{table}\n",
      "\n"
     ]
    }
   ],
   "metadata": {}
  },
  {
   "cell_type": "code",
   "execution_count": 5,
   "source": [
    "'''\n",
    "norm_factors = {}\n",
    "for col in df.columns:\n",
    "    div = 10**int(np.log10(df[col]['hydrofluoric acid']))\n",
    "    norm_factors[col] = div\n",
    "    #df[str(col) + '_normal'] = df[col]/div\n",
    "\n",
    "data = [df[col] for col in df.columns if '_normal' in str(col)]\n",
    "headers = [col[:-7] for col in df.columns if '_normal' in str(col)]\n",
    "print(headers)\n",
    "df_normal = pd.concat(data, axis=1, keys=headers)\n",
    "df_normal'''"
   ],
   "outputs": [
    {
     "output_type": "execute_result",
     "data": {
      "text/plain": [
       "\"\\nnorm_factors = {}\\nfor col in df.columns:\\n    div = 10**int(np.log10(df[col]['hydrofluoric acid']))\\n    norm_factors[col] = div\\n    #df[str(col) + '_normal'] = df[col]/div\\n\\ndata = [df[col] for col in df.columns if '_normal' in str(col)]\\nheaders = [col[:-7] for col in df.columns if '_normal' in str(col)]\\nprint(headers)\\ndf_normal = pd.concat(data, axis=1, keys=headers)\\ndf_normal\""
      ]
     },
     "metadata": {},
     "execution_count": 5
    }
   ],
   "metadata": {}
  },
  {
   "cell_type": "code",
   "execution_count": 6,
   "source": [
    "df.columns"
   ],
   "outputs": [
    {
     "output_type": "execute_result",
     "data": {
      "text/plain": [
       "Index(['H$_2$', 'HF', 'H$_2$O', 'NH$_3$', 'CH$_4$', 'O$_2$', 'CO$_2$', 'NaCl'], dtype='object')"
      ]
     },
     "metadata": {},
     "execution_count": 6
    }
   ],
   "metadata": {}
  },
  {
   "cell_type": "code",
   "execution_count": 7,
   "source": [
    "import matplotlib.pyplot as plt\n",
    "fig, ax = plt.subplots()\n",
    "\n",
    "#plt.xlabel(\"Molecule\")\n",
    "plt.ylabel(\"T-gate cost\")\n",
    "plt.yscale('log')\n",
    "plt.xticks(ticks = range(len(labels)), labels = labels, rotation=90)\n",
    "#plt.legend(loc='upper left')\n",
    "\n",
    "# Function add a legend  \n",
    "#plt.legend(list(df.columns), loc='upper left')\n",
    "\n",
    "for col,color in zip(df.columns, ['gray','brown','m','red','darkorange', 'green','blue', 'black']):\n",
    "    ax.scatter(df.index, df[col], label = col,facecolors=\"None\", edgecolors=color, linewidth = 1)\n",
    "\n",
    "ax.legend(bbox_to_anchor=(1, 1))\n",
    "\n",
    "plt.savefig('results/cost_plot.pdf', format='pdf', bbox_inches='tight')\n",
    "plt.show()"
   ],
   "outputs": [
    {
     "output_type": "display_data",
     "data": {
      "image/png": "[encoded data removed]",
      "text/plain": [
       "<Figure size 432x288 with 1 Axes>"
      ]
     },
     "metadata": {
      "needs_background": "light"
     }
    }
   ],
   "metadata": {}
  },
  {
   "cell_type": "code",
   "execution_count": 8,
   "source": [
    "df2 = df.T\n",
    "df2.columns"
   ],
   "outputs": [
    {
     "output_type": "execute_result",
     "data": {
      "text/plain": [
       "Index(['qDRIFT', 'Rand. Hamilt.', 'Taylor naive', 'Taylor on-the-fly',\n",
       "       'Config. interaction', 'Low depth Trotter', 'L. d. Taylor naive',\n",
       "       'L. d. Tay. on-the-fly', 'Linear T', 'Sparsity low-rank',\n",
       "       'Interaction picture'],\n",
       "      dtype='object')"
      ]
     },
     "metadata": {},
     "execution_count": 8
    }
   ],
   "metadata": {}
  },
  {
   "cell_type": "code",
   "execution_count": 9,
   "source": [
    "df2 = df2[['Taylor naive', 'Taylor on-the-fly', 'L. d. Taylor naive', 'L. d. Tay. on-the-fly']].copy()\n"
   ],
   "outputs": [],
   "metadata": {}
  },
  {
   "cell_type": "code",
   "execution_count": 10,
   "source": [
    "df2.index"
   ],
   "outputs": [
    {
     "output_type": "execute_result",
     "data": {
      "text/plain": [
       "Index(['H$_2$', 'HF', 'H$_2$O', 'NH$_3$', 'CH$_4$', 'O$_2$', 'CO$_2$', 'NaCl'], dtype='object')"
      ]
     },
     "metadata": {},
     "execution_count": 10
    }
   ],
   "metadata": {}
  },
  {
   "cell_type": "code",
   "execution_count": 11,
   "source": [
    "fig, (ax2, ax1) = plt.subplots(2, 1, sharex=True,figsize=(7,7))\n",
    "ax1.scatter(df2.index, df2['Taylor naive'], c = 'blue', label = 'Gaussian')\n",
    "ax1.scatter(df2.index, df2['L. d. Taylor naive'], c = 'red', label = 'Plane waves')\n",
    "ax1.set_title('Taylor naive algorithm')\n",
    "ax1.set_yscale('log')\n",
    "ax1.set_ylabel('T-gate cost')\n",
    "ax1.legend(bbox_to_anchor=(0.28, 1))\n",
    "\n",
    "ax2.scatter(df2.index, df2['Taylor on-the-fly'], c = 'blue', label = 'Gaussian')\n",
    "ax2.scatter(df2.index, df2['L. d. Tay. on-the-fly'], c = 'red', label = 'Plane waves')\n",
    "ax2.set_title('Taylor on-the-fly algorithm')\n",
    "ax2.legend(bbox_to_anchor=(0.28, 1))\n",
    "ax2.set_yscale('log')\n",
    "ax2.set_ylabel('T-gate cost')\n",
    "\n",
    "plt.savefig('results/gaussian_vs_plane.pdf', format='pdf', bbox_inches='tight')\n",
    "plt.show()"
   ],
   "outputs": [
    {
     "output_type": "display_data",
     "data": {
      "image/png": "[encoded data removed]",
      "text/plain": [
       "<Figure size 504x504 with 2 Axes>"
      ]
     },
     "metadata": {
      "needs_background": "light"
     }
    }
   ],
   "metadata": {}
  },
  {
   "cell_type": "code",
   "execution_count": null,
   "source": [],
   "outputs": [],
   "metadata": {}
  }
 ],
 "metadata": {
  "orig_nbformat": 4,
  "language_info": {
   "name": "python",
   "version": "3.6.12",
   "mimetype": "text/x-python",
   "codemirror_mode": {
    "name": "ipython",
    "version": 3
   },
   "pygments_lexer": "ipython3",
   "nbconvert_exporter": "python",
   "file_extension": ".py"
  },
  "kernelspec": {
   "name": "python3",
   "display_name": "Python 3.6.12 64-bit ('openfermion': conda)"
  },
  "interpreter": {
   "hash": "ed33cbcceba37f108acd11f1306306d444cb1609391dd5b4b7dd6182044a625a"
  }
 },
 "nbformat": 4,
 "nbformat_minor": 2
}